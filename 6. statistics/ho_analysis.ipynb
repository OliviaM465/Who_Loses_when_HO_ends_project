{
 "cells": [
  {
   "cell_type": "markdown",
   "id": "1d0a9107",
   "metadata": {},
   "source": [
    "# Linear Mixed Model (LMM)\n",
    "# considering that home office rate is continuous (e.g., % from 0 to 100) which is from what I understand\n",
    "# If it is t's a proportion from counts (e.g., #people working from home / total surveyed) GLMM with binomial family, using successes and failures...\n",
    "# I'll go with lmm for now "
   ]
  },
  {
   "cell_type": "code",
   "execution_count": 3,
   "id": "5de789c8",
   "metadata": {},
   "outputs": [],
   "source": [
    "import pandas as pd\n",
    "import numpy as np\n",
    "import statsmodels.formula.api as smf\n",
    "import matplotlib.pyplot as plt\n",
    "import seaborn as sns"
   ]
  },
  {
   "cell_type": "code",
   "execution_count": null,
   "id": "d11021ef",
   "metadata": {},
   "outputs": [],
   "source": [
    "# HO rate∼cluster∗gender∗children+(1∣region)+(1∣year) => this is basically the formular "
   ]
  },
  {
   "cell_type": "code",
   "execution_count": 18,
   "id": "3fb5759d",
   "metadata": {},
   "outputs": [
    {
     "name": "stdout",
     "output_type": "stream",
     "text": [
      "    region gender age_group children  cluster  year  home_office_percent  \\\n",
      "0  Belgium  total     18-24    total        1  2015                  8.9   \n",
      "1  Czechia  total     18-24    total        2  2015                  2.7   \n",
      "2  Denmark  total     18-24    total        1  2015                  5.8   \n",
      "3  Germany  total     18-24    total        0  2015                  2.9   \n",
      "4  Estonia  total     18-24    total        0  2015                  6.7   \n",
      "\n",
      "  cluster_label  \n",
      "0       High-HO  \n",
      "1        Low-HO  \n",
      "2       High-HO  \n",
      "3        Mid-HO  \n",
      "4        Mid-HO  \n",
      "<class 'pandas.core.frame.DataFrame'>\n",
      "RangeIndex: 25030 entries, 0 to 25029\n",
      "Data columns (total 8 columns):\n",
      " #   Column               Non-Null Count  Dtype  \n",
      "---  ------               --------------  -----  \n",
      " 0   region               25030 non-null  object \n",
      " 1   gender               25030 non-null  object \n",
      " 2   age_group            25030 non-null  object \n",
      " 3   children             25030 non-null  object \n",
      " 4   cluster              25030 non-null  int64  \n",
      " 5   year                 25030 non-null  int64  \n",
      " 6   home_office_percent  25030 non-null  float64\n",
      " 7   cluster_label        25030 non-null  object \n",
      "dtypes: float64(1), int64(2), object(5)\n",
      "memory usage: 1.5+ MB\n",
      "None\n"
     ]
    }
   ],
   "source": [
    "df = pd.read_csv(\"all_home_office_clean.csv\")\n",
    "\n",
    "print(df.head())\n",
    "print(df.info())\n"
   ]
  },
  {
   "cell_type": "code",
   "execution_count": 19,
   "id": "8e97aace",
   "metadata": {},
   "outputs": [
    {
     "name": "stdout",
     "output_type": "stream",
     "text": [
      "cluster_label\n",
      "Low-HO     11500\n",
      "Mid-HO      8010\n",
      "High-HO     5520\n",
      "Name: count, dtype: int64\n",
      "gender\n",
      "total     8630\n",
      "male      8270\n",
      "female    8130\n",
      "Name: count, dtype: int64\n",
      "children\n",
      "total    5880\n",
      "0        5830\n",
      "1        4990\n",
      "2        4540\n",
      "3+       3790\n",
      "Name: count, dtype: int64\n"
     ]
    }
   ],
   "source": [
    "# Check categories\n",
    "print(df['cluster_label'].value_counts())\n",
    "print(df['gender'].value_counts())\n",
    "print(df['children'].value_counts())\n",
    "\n"
   ]
  },
  {
   "cell_type": "code",
   "execution_count": 20,
   "id": "a7db1640",
   "metadata": {},
   "outputs": [],
   "source": [
    "# Drop rows where gender and childreen are total (it messes up the analysis)\n",
    "df = df[(df['gender'] != 'total') & (df['children'] != 'total')]\n",
    "\n",
    "# reset index after filtering\n",
    "df = df.reset_index(drop=True)\n"
   ]
  },
  {
   "cell_type": "code",
   "execution_count": 21,
   "id": "d8d4363b",
   "metadata": {},
   "outputs": [
    {
     "name": "stdout",
     "output_type": "stream",
     "text": [
      "                               count       mean        std   min     25%  \\\n",
      "cluster_label gender children                                              \n",
      "High-HO       female 0         420.0  31.280476  10.774747   5.4  23.000   \n",
      "                     1         350.0  35.824857   9.602291   4.3  29.725   \n",
      "                     2         310.0  42.402581   9.220660  25.2  34.625   \n",
      "                     3+        300.0  40.334000   8.536519  23.0  34.175   \n",
      "              male   0         420.0  31.817857  10.157419   6.2  27.400   \n",
      "                     1         360.0  38.112500   9.187419   4.6  32.900   \n",
      "                     2         350.0  44.005143  10.026079   5.0  39.700   \n",
      "                     3+        310.0  42.723871   8.689413  25.0  35.900   \n",
      "Low-HO        female 0         890.0   8.669101   4.761143   0.6   4.800   \n",
      "                     1         750.0   8.525200   4.590961   0.8   5.100   \n",
      "                     2         680.0  10.036176   5.269225   1.2   5.800   \n",
      "                     3+        520.0  11.853846   5.251764   3.1   7.675   \n",
      "              male   0         880.0   7.167045   4.158329   0.3   3.975   \n",
      "                     1         740.0   7.293108   4.318960   0.2   3.975   \n",
      "                     2         710.0   8.402113   5.040967   0.2   4.500   \n",
      "                     3+        520.0   8.284038   5.104257   0.2   4.700   \n",
      "Mid-HO        female 0         610.0  20.645738   9.437301   2.8  14.225   \n",
      "                     1         500.0  21.107600   8.554598   7.2  13.800   \n",
      "                     2         450.0  24.628222   8.623285   9.7  18.100   \n",
      "                     3+        400.0  25.931500   7.364938  13.0  20.175   \n",
      "              male   0         620.0  18.805484   8.246472   2.5  13.300   \n",
      "                     1         540.0  20.566296   8.217180   1.6  13.900   \n",
      "                     2         490.0  24.575918   8.311484   6.2  18.000   \n",
      "                     3+        400.0  24.283750   7.237629  11.9  19.375   \n",
      "\n",
      "                                 50%     75%   max  \n",
      "cluster_label gender children                       \n",
      "High-HO       female 0         32.30  39.800  55.1  \n",
      "                     1         35.60  41.800  64.9  \n",
      "                     2         43.40  47.750  68.8  \n",
      "                     3+        39.60  46.525  61.0  \n",
      "              male   0         32.85  38.700  54.7  \n",
      "                     1         39.15  43.925  57.2  \n",
      "                     2         45.45  50.000  63.6  \n",
      "                     3+        44.35  48.100  63.6  \n",
      "Low-HO        female 0          7.75  12.600  25.5  \n",
      "                     1          7.80  12.100  23.1  \n",
      "                     2          9.15  14.700  22.4  \n",
      "                     3+        10.80  16.200  26.9  \n",
      "              male   0          6.60  10.200  17.4  \n",
      "                     1          6.80  10.300  19.9  \n",
      "                     2          7.75  12.000  27.5  \n",
      "                     3+         7.50  11.000  21.8  \n",
      "Mid-HO        female 0         18.85  26.775  52.1  \n",
      "                     1         19.55  27.725  48.0  \n",
      "                     2         23.55  29.800  44.7  \n",
      "                     3+        25.45  30.100  44.3  \n",
      "              male   0         17.40  23.500  45.8  \n",
      "                     1         20.30  26.500  44.5  \n",
      "                     2         23.90  31.250  48.6  \n",
      "                     3+        24.30  28.200  50.6  \n"
     ]
    }
   ],
   "source": [
    "# Summary stats\n",
    "print(df.groupby(['cluster_label', 'gender', 'children'])['home_office_percent'].describe())\n"
   ]
  },
  {
   "cell_type": "code",
   "execution_count": null,
   "id": "9649d206",
   "metadata": {},
   "outputs": [],
   "source": [
    "# Convert to categories (it's like converting things to factor in R)\n",
    "categorical_vars = ['cluster_label', 'gender', 'children', 'region', 'year']\n",
    "for col in categorical_vars:\n",
    "    df[col] = df[col].astype('category')\n"
   ]
  },
  {
   "cell_type": "code",
   "execution_count": null,
   "id": "91a4930d",
   "metadata": {},
   "outputs": [
    {
     "name": "stdout",
     "output_type": "stream",
     "text": [
      "                               Mixed Linear Model Regression Results\n",
      "====================================================================================================\n",
      "Model:                         MixedLM            Dependent Variable:            home_office_percent\n",
      "No. Observations:              12520              Method:                        REML               \n",
      "No. Groups:                    29                 Scale:                         41.7111            \n",
      "Min. group size:               120                Log-Likelihood:                -41178.9160        \n",
      "Max. group size:               560                Converged:                     Yes                \n",
      "Mean group size:               431.7                                                                \n",
      "----------------------------------------------------------------------------------------------------\n",
      "                                                       Coef.  Std.Err.    z    P>|z|  [0.025  0.975]\n",
      "----------------------------------------------------------------------------------------------------\n",
      "Intercept                                              31.280    1.520  20.583 0.000  28.302  34.259\n",
      "cluster_label[T.Low-HO]                               -22.847    1.818 -12.569 0.000 -26.409 -19.284\n",
      "cluster_label[T.Mid-HO]                               -10.679    1.963  -5.442 0.000 -14.525  -6.833\n",
      "gender[T.male]                                          0.537    0.446   1.206 0.228  -0.336   1.411\n",
      "children[T.1]                                           4.340    0.468   9.280 0.000   3.423   5.256\n",
      "children[T.2]                                          10.936    0.484  22.610 0.000   9.988  11.884\n",
      "children[T.3+]                                          9.054    0.488  18.544 0.000   8.097  10.010\n",
      "cluster_label[T.Low-HO]:gender[T.male]                 -1.978    0.541  -3.655 0.000  -3.039  -0.918\n",
      "cluster_label[T.Mid-HO]:gender[T.male]                 -2.363    0.578  -4.086 0.000  -3.496  -1.229\n",
      "cluster_label[T.Low-HO]:children[T.1]                  -4.411    0.567  -7.783 0.000  -5.522  -3.300\n",
      "cluster_label[T.Mid-HO]:children[T.1]                  -3.892    0.609  -6.393 0.000  -5.085  -2.699\n",
      "cluster_label[T.Low-HO]:children[T.2]                  -9.603    0.586 -16.397 0.000 -10.750  -8.455\n",
      "cluster_label[T.Mid-HO]:children[T.2]                  -6.909    0.629 -10.993 0.000  -8.141  -5.677\n",
      "cluster_label[T.Low-HO]:children[T.3+]                 -6.460    0.607 -10.650 0.000  -7.649  -5.271\n",
      "cluster_label[T.Mid-HO]:children[T.3+]                 -3.950    0.642  -6.151 0.000  -5.209  -2.691\n",
      "gender[T.male]:children[T.1]                            1.775    0.659   2.696 0.007   0.485   3.066\n",
      "gender[T.male]:children[T.2]                            1.047    0.673   1.556 0.120  -0.272   2.365\n",
      "gender[T.male]:children[T.3+]                           1.666    0.687   2.425 0.015   0.319   3.013\n",
      "cluster_label[T.Low-HO]:gender[T.male]:children[T.1]   -1.825    0.801  -2.280 0.023  -3.394  -0.256\n",
      "cluster_label[T.Mid-HO]:gender[T.male]:children[T.1]   -0.447    0.854  -0.523 0.601  -2.122   1.228\n",
      "cluster_label[T.Low-HO]:gender[T.male]:children[T.2]   -1.344    0.817  -1.646 0.100  -2.945   0.256\n",
      "cluster_label[T.Mid-HO]:gender[T.male]:children[T.2]    0.742    0.875   0.848 0.397  -0.974   2.457\n",
      "cluster_label[T.Low-HO]:gender[T.male]:children[T.3+]  -3.934    0.853  -4.613 0.000  -5.606  -2.262\n",
      "cluster_label[T.Mid-HO]:gender[T.male]:children[T.3+]  -1.489    0.904  -1.648 0.099  -3.260   0.282\n",
      "Group Var                                              13.261    0.575                              \n",
      "====================================================================================================\n",
      "\n"
     ]
    }
   ],
   "source": [
    "#so again this is the fomular rate ~ cluster * gender * children + (1|region) + (1|year) \n",
    "# Mixed model with random intercept for region and year (it is more manual than lme4 in R)\n",
    "# home office rates is the dependent variable\n",
    "\n",
    "md = smf.mixedlm(\n",
    "    \"home_office_percent ~ cluster_label * gender * children\",\n",
    "    data=df,\n",
    "    groups=df[\"region\"], \n",
    "    re_formula=\"~1\"\n",
    ")\n",
    "mfit = md.fit()\n",
    "print(mfit.summary())\n",
    "\n"
   ]
  },
  {
   "cell_type": "code",
   "execution_count": null,
   "id": "69b465ef",
   "metadata": {},
   "outputs": [],
   "source": []
  },
  {
   "cell_type": "markdown",
   "id": "4c1e3fe8",
   "metadata": {},
   "source": [
    "Step 1 — Understanding the reference categories\n",
    "\n",
    "In regression with categorical predictors, one category from each variable becomes the reference (baseline), and all other coefficients are interpreted relative to that.\n",
    "\n",
    "\n",
    "Cluster: \"High-HO\" (since Low-HO and Mid-HO appear as contrasts)\n",
    "Gender: \"female\" (since male appears as a contrast)\n",
    "Children: \"0\" (since 1, 2, and 3+ appear as contrasts)\n",
    "\n",
    "So:\n",
    "Intercept (31.280) = estimated mean home office rate for\n",
    "High-HO cluster, female, 0 children\n",
    "(plus any random effect for a country/year if you have them)"
   ]
  },
  {
   "cell_type": "markdown",
   "id": "d5434b9f",
   "metadata": {},
   "source": [
    "Step 2 — Main effects\n",
    "\n",
    "These tell us the average change from the reference when we change one factor, holding others constant:\n",
    "\n",
    "Cluster\n",
    "Low-HO: -22.847 → Low-HO countries have ~22.85 percentage points lower home office rates than High-HO countries.\n",
    "Mid-HO: -10.679 → Mid-HO countries have ~10.68 percentage points lower rates than High-HO.\n",
    "\n",
    "Gender\n",
    "male: +0.537, p=0.228 → No significant difference between men and women overall (since p > 0.05).\n",
    "\n",
    "Children\n",
    "1 child: +4.34, p<0.001 → People with 1 child have ~4.34 points higher home office rates than those with 0 children.\n",
    "2 children: +10.94, p<0.001 → +10.94 points compared to 0 children.\n",
    "3+ children: +9.05, p<0.001 → +9.05 points compared to 0 children."
   ]
  },
  {
   "cell_type": "markdown",
   "id": "4c3ef958",
   "metadata": {},
   "source": [
    "step 3 — Two-way interactions\n",
    "\n",
    "These tell us how the effect of one variable changes depending on another variable.\n",
    "\n",
    "Example:\n",
    "Cluster[T.Low-HO] : Gender[T.male] = -1.978\n",
    "→ In Low-HO countries, the male-female gap is ~2 points smaller (more negative) than in High-HO countries.\n",
    "\n",
    "Cluster[T.Low-HO] : Children[T.2] = -9.603\n",
    "→ In Low-HO countries, the \"2 children vs 0 children\" difference is ~9.6 points smaller than in High-HO countries.\n",
    "\n",
    "In general:\n",
    "Negative interaction → the effect is weaker in that combination than you'd expect from main effects alone.\n",
    "Positive interaction → the effect is stronger."
   ]
  },
  {
   "cell_type": "markdown",
   "id": "d88ce572",
   "metadata": {},
   "source": [
    "Step 4 — Three-way interactions\n",
    "\n",
    "Example:\n",
    "\n",
    "Cluster[T.Mid-HO] : Gender[T.male] : Children[T.3+] = -1.489\n",
    "→ In Mid-HO countries, for men with 3+ children, the deviation from the baseline (after accounting for all main and two-way effects) is about -1.49 points.\n",
    "\n",
    "p = 0.099 → borderline non-significant."
   ]
  },
  {
   "cell_type": "code",
   "execution_count": null,
   "id": "144ae5cb",
   "metadata": {},
   "outputs": [],
   "source": []
  },
  {
   "cell_type": "markdown",
   "id": "a6d288cb",
   "metadata": {},
   "source": [
    "Key takeaway\n",
    "\n",
    "Cluster is highly significant — High-HO countries have much higher home office rates than Mid or Low.\n",
    "Number of children shows a strong positive relationship — more children, higher home office rate — but this relationship is moderated by cluster.\n",
    "Gender alone is not significant overall, but gender effects vary by cluster (significant interactions).\n",
    "Many interaction terms are significant, suggesting the story is not just \"main effects\" — the relationship between children and home office rates depends on the country cluster, and to some extent gender."
   ]
  }
 ],
 "metadata": {
  "kernelspec": {
   "display_name": "base",
   "language": "python",
   "name": "python3"
  },
  "language_info": {
   "codemirror_mode": {
    "name": "ipython",
    "version": 3
   },
   "file_extension": ".py",
   "mimetype": "text/x-python",
   "name": "python",
   "nbconvert_exporter": "python",
   "pygments_lexer": "ipython3",
   "version": "3.13.2"
  }
 },
 "nbformat": 4,
 "nbformat_minor": 5
}
