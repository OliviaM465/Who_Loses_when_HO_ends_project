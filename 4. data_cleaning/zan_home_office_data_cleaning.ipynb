{
 "cells": [
  {
   "cell_type": "code",
   "execution_count": 2,
   "id": "2007c65c",
   "metadata": {},
   "outputs": [],
   "source": [
    "import pandas as pd\n",
    "import numpy as np"
   ]
  },
  {
   "cell_type": "markdown",
   "id": "0b358670",
   "metadata": {},
   "source": [
    "# Data cleaning\n",
    "\n",
    "The big dataset has some issues:\n",
    "\n",
    "- possible white space in stings\n",
    "- Date and floats are stored as strings\n",
    "- Null values are actually stored as :\n",
    "- Numberical values are stored as string"
   ]
  },
  {
   "cell_type": "code",
   "execution_count": null,
   "id": "ce02d2ec",
   "metadata": {},
   "outputs": [],
   "source": [
    "df = pd.read_excel(\"Home_Office_all_sheets_english.xlsx\")"
   ]
  },
  {
   "cell_type": "code",
   "execution_count": 4,
   "id": "e2e9c667",
   "metadata": {},
   "outputs": [
    {
     "data": {
      "text/html": [
       "<div>\n",
       "<style scoped>\n",
       "    .dataframe tbody tr th:only-of-type {\n",
       "        vertical-align: middle;\n",
       "    }\n",
       "\n",
       "    .dataframe tbody tr th {\n",
       "        vertical-align: top;\n",
       "    }\n",
       "\n",
       "    .dataframe thead th {\n",
       "        text-align: right;\n",
       "    }\n",
       "</style>\n",
       "<table border=\"1\" class=\"dataframe\">\n",
       "  <thead>\n",
       "    <tr style=\"text-align: right;\">\n",
       "      <th></th>\n",
       "      <th>region</th>\n",
       "      <th>2015</th>\n",
       "      <th>2016</th>\n",
       "      <th>2017</th>\n",
       "      <th>2018</th>\n",
       "      <th>2019</th>\n",
       "      <th>2020</th>\n",
       "      <th>2021</th>\n",
       "      <th>2022</th>\n",
       "      <th>2023</th>\n",
       "      <th>2024</th>\n",
       "      <th>gender</th>\n",
       "      <th>age_group</th>\n",
       "      <th>children</th>\n",
       "    </tr>\n",
       "  </thead>\n",
       "  <tbody>\n",
       "    <tr>\n",
       "      <th>0</th>\n",
       "      <td>European_Union_27_countries_from_2020</td>\n",
       "      <td>4.5</td>\n",
       "      <td>4.6</td>\n",
       "      <td>4.6</td>\n",
       "      <td>4.7</td>\n",
       "      <td>5.3</td>\n",
       "      <td>10.3</td>\n",
       "      <td>12.4</td>\n",
       "      <td>11.1</td>\n",
       "      <td>10.4</td>\n",
       "      <td>10</td>\n",
       "      <td>total</td>\n",
       "      <td>18-24</td>\n",
       "      <td>total</td>\n",
       "    </tr>\n",
       "    <tr>\n",
       "      <th>1</th>\n",
       "      <td>Euro_area_20_countries_2015-2022</td>\n",
       "      <td>4.5</td>\n",
       "      <td>4.3</td>\n",
       "      <td>4.6</td>\n",
       "      <td>4.7</td>\n",
       "      <td>5.3</td>\n",
       "      <td>11.1</td>\n",
       "      <td>13.7</td>\n",
       "      <td>12.3</td>\n",
       "      <td>11</td>\n",
       "      <td>10.7</td>\n",
       "      <td>total</td>\n",
       "      <td>18-24</td>\n",
       "      <td>total</td>\n",
       "    </tr>\n",
       "    <tr>\n",
       "      <th>2</th>\n",
       "      <td>Belgium</td>\n",
       "      <td>8.9</td>\n",
       "      <td>8.6</td>\n",
       "      <td>9.3</td>\n",
       "      <td>9.6</td>\n",
       "      <td>10.3</td>\n",
       "      <td>13.3</td>\n",
       "      <td>16</td>\n",
       "      <td>11.9</td>\n",
       "      <td>11.3</td>\n",
       "      <td>11.2</td>\n",
       "      <td>total</td>\n",
       "      <td>18-24</td>\n",
       "      <td>total</td>\n",
       "    </tr>\n",
       "    <tr>\n",
       "      <th>3</th>\n",
       "      <td>Bulgaria</td>\n",
       "      <td>:</td>\n",
       "      <td>:</td>\n",
       "      <td>:</td>\n",
       "      <td>:</td>\n",
       "      <td>:</td>\n",
       "      <td>:</td>\n",
       "      <td>:</td>\n",
       "      <td>:</td>\n",
       "      <td>:</td>\n",
       "      <td>:</td>\n",
       "      <td>total</td>\n",
       "      <td>18-24</td>\n",
       "      <td>total</td>\n",
       "    </tr>\n",
       "    <tr>\n",
       "      <th>4</th>\n",
       "      <td>Czechia</td>\n",
       "      <td>2.7</td>\n",
       "      <td>2.8</td>\n",
       "      <td>3.5</td>\n",
       "      <td>3.9</td>\n",
       "      <td>4.3</td>\n",
       "      <td>4.8</td>\n",
       "      <td>7.3</td>\n",
       "      <td>6.5</td>\n",
       "      <td>10.2</td>\n",
       "      <td>8.4</td>\n",
       "      <td>total</td>\n",
       "      <td>18-24</td>\n",
       "      <td>total</td>\n",
       "    </tr>\n",
       "  </tbody>\n",
       "</table>\n",
       "</div>"
      ],
      "text/plain": [
       "                                  region 2015 2016 2017 2018  2019  2020  \\\n",
       "0  European_Union_27_countries_from_2020  4.5  4.6  4.6  4.7   5.3  10.3   \n",
       "1       Euro_area_20_countries_2015-2022  4.5  4.3  4.6  4.7   5.3  11.1   \n",
       "2                                Belgium  8.9  8.6  9.3  9.6  10.3  13.3   \n",
       "3                               Bulgaria    :    :    :    :     :     :   \n",
       "4                                Czechia  2.7  2.8  3.5  3.9   4.3   4.8   \n",
       "\n",
       "   2021  2022  2023  2024 gender age_group children  \n",
       "0  12.4  11.1  10.4    10  total     18-24    total  \n",
       "1  13.7  12.3    11  10.7  total     18-24    total  \n",
       "2    16  11.9  11.3  11.2  total     18-24    total  \n",
       "3     :     :     :     :  total     18-24    total  \n",
       "4   7.3   6.5  10.2   8.4  total     18-24    total  "
      ]
     },
     "execution_count": 4,
     "metadata": {},
     "output_type": "execute_result"
    }
   ],
   "source": [
    "df.head()"
   ]
  },
  {
   "cell_type": "code",
   "execution_count": 6,
   "id": "3f116e4f",
   "metadata": {},
   "outputs": [
    {
     "name": "stdout",
     "output_type": "stream",
     "text": [
      "<class 'pandas.core.frame.DataFrame'>\n",
      "RangeIndex: 3780 entries, 0 to 3779\n",
      "Data columns (total 14 columns):\n",
      " #   Column     Non-Null Count  Dtype \n",
      "---  ------     --------------  ----- \n",
      " 0   region     3780 non-null   object\n",
      " 1   2015       3780 non-null   object\n",
      " 2   2016       3780 non-null   object\n",
      " 3   2017       3780 non-null   object\n",
      " 4   2018       3780 non-null   object\n",
      " 5   2019       3780 non-null   object\n",
      " 6   2020       3780 non-null   object\n",
      " 7   2021       3780 non-null   object\n",
      " 8   2022       3780 non-null   object\n",
      " 9   2023       3780 non-null   object\n",
      " 10  2024       3780 non-null   object\n",
      " 11  gender     3780 non-null   object\n",
      " 12  age_group  3780 non-null   object\n",
      " 13  children   3780 non-null   object\n",
      "dtypes: object(14)\n",
      "memory usage: 413.6+ KB\n"
     ]
    }
   ],
   "source": [
    "df.info()"
   ]
  },
  {
   "cell_type": "code",
   "execution_count": 5,
   "id": "41278716",
   "metadata": {},
   "outputs": [],
   "source": [
    "# strip all white space from fields\n",
    "\n",
    "df = df.astype(str).apply(lambda x: x.str.strip())"
   ]
  },
  {
   "cell_type": "code",
   "execution_count": 8,
   "id": "45208e0b",
   "metadata": {},
   "outputs": [],
   "source": [
    "# create null values out of : if the previous code does not work\n",
    "\n",
    "df = df.replace(to_replace=':.*', value=np.nan, regex=True)"
   ]
  },
  {
   "cell_type": "code",
   "execution_count": 9,
   "id": "0b86319f",
   "metadata": {},
   "outputs": [
    {
     "name": "stdout",
     "output_type": "stream",
     "text": [
      "<class 'pandas.core.frame.DataFrame'>\n",
      "RangeIndex: 3780 entries, 0 to 3779\n",
      "Data columns (total 14 columns):\n",
      " #   Column     Non-Null Count  Dtype \n",
      "---  ------     --------------  ----- \n",
      " 0   region     3780 non-null   object\n",
      " 1   2015       2849 non-null   object\n",
      " 2   2016       2877 non-null   object\n",
      " 3   2017       2917 non-null   object\n",
      " 4   2018       2917 non-null   object\n",
      " 5   2019       2957 non-null   object\n",
      " 6   2020       2874 non-null   object\n",
      " 7   2021       3029 non-null   object\n",
      " 8   2022       2994 non-null   object\n",
      " 9   2023       2983 non-null   object\n",
      " 10  2024       2876 non-null   object\n",
      " 11  gender     3780 non-null   object\n",
      " 12  age_group  3780 non-null   object\n",
      " 13  children   3780 non-null   object\n",
      "dtypes: object(14)\n",
      "memory usage: 413.6+ KB\n"
     ]
    }
   ],
   "source": [
    "df.info()"
   ]
  },
  {
   "cell_type": "code",
   "execution_count": 10,
   "id": "8fd71e4f",
   "metadata": {},
   "outputs": [
    {
     "data": {
      "text/plain": [
       "region         0\n",
       "2015         931\n",
       "2016         903\n",
       "2017         863\n",
       "2018         863\n",
       "2019         823\n",
       "2020         906\n",
       "2021         751\n",
       "2022         786\n",
       "2023         797\n",
       "2024         904\n",
       "gender         0\n",
       "age_group      0\n",
       "children       0\n",
       "dtype: int64"
      ]
     },
     "execution_count": 10,
     "metadata": {},
     "output_type": "execute_result"
    }
   ],
   "source": [
    "# check for missing values\n",
    "\n",
    "df.isna().sum()"
   ]
  },
  {
   "cell_type": "code",
   "execution_count": 11,
   "id": "cc35a992",
   "metadata": {},
   "outputs": [],
   "source": [
    "# reseting index after droping useless rows\n",
    "\n",
    "df.reset_index(drop=True, inplace=True)"
   ]
  },
  {
   "cell_type": "code",
   "execution_count": 12,
   "id": "7abeebf8",
   "metadata": {},
   "outputs": [
    {
     "data": {
      "text/html": [
       "<div>\n",
       "<style scoped>\n",
       "    .dataframe tbody tr th:only-of-type {\n",
       "        vertical-align: middle;\n",
       "    }\n",
       "\n",
       "    .dataframe tbody tr th {\n",
       "        vertical-align: top;\n",
       "    }\n",
       "\n",
       "    .dataframe thead th {\n",
       "        text-align: right;\n",
       "    }\n",
       "</style>\n",
       "<table border=\"1\" class=\"dataframe\">\n",
       "  <thead>\n",
       "    <tr style=\"text-align: right;\">\n",
       "      <th></th>\n",
       "      <th>region</th>\n",
       "      <th>2015</th>\n",
       "      <th>2016</th>\n",
       "      <th>2017</th>\n",
       "      <th>2018</th>\n",
       "      <th>2019</th>\n",
       "      <th>2020</th>\n",
       "      <th>2021</th>\n",
       "      <th>2022</th>\n",
       "      <th>2023</th>\n",
       "      <th>2024</th>\n",
       "      <th>gender</th>\n",
       "      <th>age_group</th>\n",
       "      <th>children</th>\n",
       "    </tr>\n",
       "  </thead>\n",
       "  <tbody>\n",
       "    <tr>\n",
       "      <th>0</th>\n",
       "      <td>European_Union_27_countries_from_2020</td>\n",
       "      <td>4.5</td>\n",
       "      <td>4.6</td>\n",
       "      <td>4.6</td>\n",
       "      <td>4.7</td>\n",
       "      <td>5.3</td>\n",
       "      <td>10.3</td>\n",
       "      <td>12.4</td>\n",
       "      <td>11.1</td>\n",
       "      <td>10.4</td>\n",
       "      <td>10</td>\n",
       "      <td>total</td>\n",
       "      <td>18-24</td>\n",
       "      <td>total</td>\n",
       "    </tr>\n",
       "    <tr>\n",
       "      <th>1</th>\n",
       "      <td>Euro_area_20_countries_2015-2022</td>\n",
       "      <td>4.5</td>\n",
       "      <td>4.3</td>\n",
       "      <td>4.6</td>\n",
       "      <td>4.7</td>\n",
       "      <td>5.3</td>\n",
       "      <td>11.1</td>\n",
       "      <td>13.7</td>\n",
       "      <td>12.3</td>\n",
       "      <td>11</td>\n",
       "      <td>10.7</td>\n",
       "      <td>total</td>\n",
       "      <td>18-24</td>\n",
       "      <td>total</td>\n",
       "    </tr>\n",
       "    <tr>\n",
       "      <th>2</th>\n",
       "      <td>Belgium</td>\n",
       "      <td>8.9</td>\n",
       "      <td>8.6</td>\n",
       "      <td>9.3</td>\n",
       "      <td>9.6</td>\n",
       "      <td>10.3</td>\n",
       "      <td>13.3</td>\n",
       "      <td>16</td>\n",
       "      <td>11.9</td>\n",
       "      <td>11.3</td>\n",
       "      <td>11.2</td>\n",
       "      <td>total</td>\n",
       "      <td>18-24</td>\n",
       "      <td>total</td>\n",
       "    </tr>\n",
       "    <tr>\n",
       "      <th>3</th>\n",
       "      <td>Bulgaria</td>\n",
       "      <td>NaN</td>\n",
       "      <td>NaN</td>\n",
       "      <td>NaN</td>\n",
       "      <td>NaN</td>\n",
       "      <td>NaN</td>\n",
       "      <td>NaN</td>\n",
       "      <td>NaN</td>\n",
       "      <td>NaN</td>\n",
       "      <td>NaN</td>\n",
       "      <td>NaN</td>\n",
       "      <td>total</td>\n",
       "      <td>18-24</td>\n",
       "      <td>total</td>\n",
       "    </tr>\n",
       "    <tr>\n",
       "      <th>4</th>\n",
       "      <td>Czechia</td>\n",
       "      <td>2.7</td>\n",
       "      <td>2.8</td>\n",
       "      <td>3.5</td>\n",
       "      <td>3.9</td>\n",
       "      <td>4.3</td>\n",
       "      <td>4.8</td>\n",
       "      <td>7.3</td>\n",
       "      <td>6.5</td>\n",
       "      <td>10.2</td>\n",
       "      <td>8.4</td>\n",
       "      <td>total</td>\n",
       "      <td>18-24</td>\n",
       "      <td>total</td>\n",
       "    </tr>\n",
       "  </tbody>\n",
       "</table>\n",
       "</div>"
      ],
      "text/plain": [
       "                                  region 2015 2016 2017 2018  2019  2020  \\\n",
       "0  European_Union_27_countries_from_2020  4.5  4.6  4.6  4.7   5.3  10.3   \n",
       "1       Euro_area_20_countries_2015-2022  4.5  4.3  4.6  4.7   5.3  11.1   \n",
       "2                                Belgium  8.9  8.6  9.3  9.6  10.3  13.3   \n",
       "3                               Bulgaria  NaN  NaN  NaN  NaN   NaN   NaN   \n",
       "4                                Czechia  2.7  2.8  3.5  3.9   4.3   4.8   \n",
       "\n",
       "   2021  2022  2023  2024 gender age_group children  \n",
       "0  12.4  11.1  10.4    10  total     18-24    total  \n",
       "1  13.7  12.3    11  10.7  total     18-24    total  \n",
       "2    16  11.9  11.3  11.2  total     18-24    total  \n",
       "3   NaN   NaN   NaN   NaN  total     18-24    total  \n",
       "4   7.3   6.5  10.2   8.4  total     18-24    total  "
      ]
     },
     "execution_count": 12,
     "metadata": {},
     "output_type": "execute_result"
    }
   ],
   "source": [
    "df.head()"
   ]
  },
  {
   "cell_type": "code",
   "execution_count": null,
   "id": "7cd51f9d",
   "metadata": {},
   "outputs": [],
   "source": [
    "# List of columns to convert\n",
    "columns_to_convert = ['2015', '2016', '2017', '2018', '2019', '2020', '2021', '2022', '2023', '2024']\n",
    "\n",
    "#Loop and convert each column to a float\n",
    "for col in columns_to_convert:\n",
    "    df[col] = df[col].astype(float)"
   ]
  },
  {
   "cell_type": "code",
   "execution_count": 18,
   "id": "1ba6692b",
   "metadata": {},
   "outputs": [
    {
     "name": "stdout",
     "output_type": "stream",
     "text": [
      "<class 'pandas.core.frame.DataFrame'>\n",
      "RangeIndex: 3780 entries, 0 to 3779\n",
      "Data columns (total 14 columns):\n",
      " #   Column     Non-Null Count  Dtype  \n",
      "---  ------     --------------  -----  \n",
      " 0   region     3780 non-null   object \n",
      " 1   2015       2849 non-null   float64\n",
      " 2   2016       2877 non-null   float64\n",
      " 3   2017       2917 non-null   float64\n",
      " 4   2018       2917 non-null   float64\n",
      " 5   2019       2957 non-null   float64\n",
      " 6   2020       2874 non-null   float64\n",
      " 7   2021       3029 non-null   float64\n",
      " 8   2022       2994 non-null   float64\n",
      " 9   2023       2983 non-null   float64\n",
      " 10  2024       2876 non-null   float64\n",
      " 11  gender     3780 non-null   object \n",
      " 12  age_group  3780 non-null   object \n",
      " 13  children   3780 non-null   object \n",
      "dtypes: float64(10), object(4)\n",
      "memory usage: 413.6+ KB\n"
     ]
    }
   ],
   "source": [
    "df.info()"
   ]
  },
  {
   "cell_type": "code",
   "execution_count": 29,
   "id": "2c244b5a",
   "metadata": {},
   "outputs": [],
   "source": [
    "df.to_csv('all_home_office_clean_wna.csv', index=False)"
   ]
  },
  {
   "cell_type": "markdown",
   "id": "f8b4ea85",
   "metadata": {},
   "source": [
    "# Undestanding NA values (under cosntruction!!)\n",
    "\n",
    "- Check where do most of the NA values occur\n",
    "- Delete countries with most NA values\n",
    "- Fill in the data if NA values occur less than 4 times (using the average)"
   ]
  },
  {
   "cell_type": "code",
   "execution_count": 19,
   "id": "5fdec67f",
   "metadata": {},
   "outputs": [],
   "source": [
    "# where do more than 9 na values occur? These rows mean they are completely useless (no data for that perticular year for that country)\n",
    "useless_ho_data = df[df.isnull().sum(axis=1) > 9]\n"
   ]
  },
  {
   "cell_type": "code",
   "execution_count": 20,
   "id": "3cdf2778",
   "metadata": {},
   "outputs": [
    {
     "name": "stdout",
     "output_type": "stream",
     "text": [
      "<class 'pandas.core.frame.DataFrame'>\n",
      "Index: 386 entries, 3 to 3777\n",
      "Data columns (total 14 columns):\n",
      " #   Column     Non-Null Count  Dtype  \n",
      "---  ------     --------------  -----  \n",
      " 0   region     386 non-null    object \n",
      " 1   2015       0 non-null      float64\n",
      " 2   2016       0 non-null      float64\n",
      " 3   2017       0 non-null      float64\n",
      " 4   2018       0 non-null      float64\n",
      " 5   2019       0 non-null      float64\n",
      " 6   2020       0 non-null      float64\n",
      " 7   2021       0 non-null      float64\n",
      " 8   2022       0 non-null      float64\n",
      " 9   2023       0 non-null      float64\n",
      " 10  2024       0 non-null      float64\n",
      " 11  gender     386 non-null    object \n",
      " 12  age_group  386 non-null    object \n",
      " 13  children   386 non-null    object \n",
      "dtypes: float64(10), object(4)\n",
      "memory usage: 45.2+ KB\n"
     ]
    }
   ],
   "source": [
    "useless_ho_data.info()"
   ]
  },
  {
   "cell_type": "code",
   "execution_count": null,
   "id": "c0798c42",
   "metadata": {},
   "outputs": [
    {
     "data": {
      "text/plain": [
       "array(['Bulgaria', 'Montenegro', 'Greece', 'Cyprus', 'Hungary', 'Romania',\n",
       "       'Slovakia', 'North Macedonia', 'Belgium', 'Denmark', 'Germany',\n",
       "       'Estonia', 'Ireland', 'Latvia', 'Lithuania', 'Luxembourg', 'Malta',\n",
       "       'Austria', 'Portugal', 'Slovenia', 'Finland', 'Sweden', 'Norway',\n",
       "       'Bosnia and Herzegovina', 'Czechia', 'Croatia', 'Italy', 'Poland',\n",
       "       'United Kingdom', 'Serbia',\n",
       "       'European_Union_27_countries_from_2020',\n",
       "       'Euro_area_20_countries_2015-2022', 'Spain', 'Netherlands'],\n",
       "      dtype=object)"
      ]
     },
     "execution_count": 21,
     "metadata": {},
     "output_type": "execute_result"
    }
   ],
   "source": [
    "useless_ho_data['region'].unique()"
   ]
  },
  {
   "cell_type": "code",
   "execution_count": 27,
   "id": "268a8b8f",
   "metadata": {},
   "outputs": [
    {
     "name": "stdout",
     "output_type": "stream",
     "text": [
      "region\n",
      "European_Union_27_countries_from_2020    105\n",
      "Euro_area_20_countries_2015-2022         105\n",
      "Netherlands                              105\n",
      "Austria                                  105\n",
      "Poland                                   105\n",
      "Portugal                                 105\n",
      "Romania                                  105\n",
      "Slovenia                                 105\n",
      "Slovakia                                 105\n",
      "Finland                                  105\n",
      "Sweden                                   105\n",
      "Norway                                   105\n",
      "United Kingdom                           105\n",
      "Bosnia and Herzegovina                   105\n",
      "Montenegro                               105\n",
      "North Macedonia                          105\n",
      "Serbia                                   105\n",
      "Malta                                    105\n",
      "Hungary                                  105\n",
      "Luxembourg                               105\n",
      "Ireland                                  105\n",
      "Belgium                                  105\n",
      "Bulgaria                                 105\n",
      "Czechia                                  105\n",
      "Denmark                                  105\n",
      "Germany                                  105\n",
      "Estonia                                  105\n",
      "Greece                                   105\n",
      "Lithuania                                105\n",
      "Spain                                    105\n",
      "France                                   105\n",
      "Croatia                                  105\n",
      "Italy                                    105\n",
      "Cyprus                                   105\n",
      "Latvia                                   105\n",
      "Türkiye                                  105\n",
      "Name: count, dtype: int64\n"
     ]
    }
   ],
   "source": [
    "print(df['region'].value_counts())"
   ]
  },
  {
   "cell_type": "code",
   "execution_count": 26,
   "id": "4c42f40e",
   "metadata": {},
   "outputs": [
    {
     "name": "stdout",
     "output_type": "stream",
     "text": [
      "region\n",
      "Bulgaria                                 39\n",
      "Romania                                  24\n",
      "Montenegro                               23\n",
      "Cyprus                                   17\n",
      "Slovakia                                 17\n",
      "Lithuania                                16\n",
      "Malta                                    16\n",
      "Hungary                                  15\n",
      "North Macedonia                          15\n",
      "Latvia                                   15\n",
      "Luxembourg                               14\n",
      "Greece                                   13\n",
      "Estonia                                  13\n",
      "Ireland                                  12\n",
      "Finland                                  12\n",
      "Belgium                                  11\n",
      "Slovenia                                 11\n",
      "Portugal                                 10\n",
      "Austria                                  10\n",
      "Germany                                   9\n",
      "Denmark                                   9\n",
      "Norway                                    8\n",
      "Sweden                                    7\n",
      "Bosnia and Herzegovina                    7\n",
      "Croatia                                   7\n",
      "Poland                                    7\n",
      "Italy                                     6\n",
      "Czechia                                   5\n",
      "United Kingdom                            5\n",
      "Serbia                                    5\n",
      "European_Union_27_countries_from_2020     2\n",
      "Euro_area_20_countries_2015-2022          2\n",
      "Spain                                     2\n",
      "Netherlands                               2\n",
      "Name: count, dtype: int64\n"
     ]
    }
   ],
   "source": [
    "print(useless_ho_data['region'].value_counts())"
   ]
  },
  {
   "cell_type": "code",
   "execution_count": 25,
   "id": "18fb5da8",
   "metadata": {},
   "outputs": [
    {
     "name": "stdout",
     "output_type": "stream",
     "text": [
      "    gender age_group children  count\n",
      "0   female       18+       3+      1\n",
      "1   female     18-24        0      1\n",
      "2   female     18-24        1      1\n",
      "3   female     18-24        2      1\n",
      "4   female     18-24       3+      1\n",
      "5   female     18-24    total      1\n",
      "6   female     18-64       3+      1\n",
      "7   female     20-49       3+      1\n",
      "8   female     25-49       3+      1\n",
      "9   female     25-54       3+      1\n",
      "10  female       55+        1      1\n",
      "11  female       55+        2      1\n",
      "12  female       55+       3+      1\n",
      "13    male       18+       3+      1\n",
      "14    male     18-24        0      1\n",
      "15    male     18-24        1      1\n",
      "16    male     18-24        2      1\n",
      "17    male     18-24       3+      1\n",
      "18    male     18-24    total      1\n",
      "19    male     18-64       3+      1\n",
      "20    male     20-49       3+      1\n",
      "21    male     25-49       3+      1\n",
      "22    male     25-54       3+      1\n",
      "23    male       55+        1      1\n",
      "24    male       55+        2      1\n",
      "25    male       55+       3+      1\n",
      "26   total       18+       3+      1\n",
      "27   total     18-24        0      1\n",
      "28   total     18-24        1      1\n",
      "29   total     18-24        2      1\n",
      "30   total     18-24       3+      1\n",
      "31   total     18-24    total      1\n",
      "32   total     18-64       3+      1\n",
      "33   total     20-49       3+      1\n",
      "34   total     25-49       3+      1\n",
      "35   total     25-54       3+      1\n",
      "36   total       55+        1      1\n",
      "37   total       55+        2      1\n",
      "38   total       55+       3+      1\n"
     ]
    }
   ],
   "source": [
    "# explore useless data\n",
    "df_bulgaria = useless_ho_data[useless_ho_data['region'] == 'Bulgaria']\n",
    "result_df_bulgaria = df_bulgaria.groupby(['gender', 'age_group', 'children']).size().reset_index(name='count')\n",
    "print(result_df_bulgaria)\n",
    "\n"
   ]
  },
  {
   "cell_type": "code",
   "execution_count": null,
   "id": "4de6adc8",
   "metadata": {},
   "outputs": [],
   "source": []
  },
  {
   "cell_type": "markdown",
   "id": "ed8dd304",
   "metadata": {},
   "source": [
    "# Ovelapping dimensions\n",
    "\n",
    "Age dimensions are overlapping, e.g. \"18-24\" and \"18-64\"\n",
    "\n",
    "To make it managable I am suggesting storing it in different df by the level of granularity."
   ]
  },
  {
   "cell_type": "code",
   "execution_count": 28,
   "id": "ad9cc8bf",
   "metadata": {},
   "outputs": [
    {
     "data": {
      "text/plain": [
       "array(['18-24', '18-64', '18+', '20-49', '25-49', '25-54', '55+'],\n",
       "      dtype=object)"
      ]
     },
     "execution_count": 28,
     "metadata": {},
     "output_type": "execute_result"
    }
   ],
   "source": [
    "df['age_group'].unique()"
   ]
  },
  {
   "cell_type": "code",
   "execution_count": null,
   "id": "399478f3",
   "metadata": {},
   "outputs": [],
   "source": [
    "#granular_labels = ['0','1-9', '10-14', '15-19', '20-29', '30-44', '45-59', '60+', 'No_response']\n",
    "\n",
    "#medium_labels = ['0', '1-14', '15-29', '30-59', '60+', 'No_response']\n",
    "\n",
    "#broad_labels = ['0', '1+', '30+', '60+', 'No_response']\n",
    "\n"
   ]
  },
  {
   "cell_type": "code",
   "execution_count": null,
   "id": "5eb74dbe",
   "metadata": {},
   "outputs": [],
   "source": [
    "granular_labels_drop = ['1-14', '15-29', '30-59', '1+', '30+']\n",
    "\n",
    "medium_labels_drop = ['1-9', '10-14', '15-19', '20-29', '30-44', '45-59','1+', '30+',]\n",
    "\n",
    "broad_labels_drop = ['1-9', '10-14', '15-19', '20-29', '30-44', '45-59', '1-14', '15-29', '30-59']\n",
    "\n"
   ]
  },
  {
   "cell_type": "code",
   "execution_count": null,
   "id": "c51c60f2",
   "metadata": {},
   "outputs": [],
   "source": [
    "df_granular = df.copy()\n",
    "df_granular.drop(columns = granular_labels_drop, inplace=True)"
   ]
  },
  {
   "cell_type": "code",
   "execution_count": null,
   "id": "a2ac135a",
   "metadata": {},
   "outputs": [],
   "source": [
    "df_medium = df.copy()\n",
    "df_medium.drop(columns = medium_labels_drop, inplace=True)"
   ]
  },
  {
   "cell_type": "code",
   "execution_count": null,
   "id": "68ee6bb0",
   "metadata": {},
   "outputs": [],
   "source": [
    "df_broad = df.copy()\n",
    "df_broad.drop(columns = broad_labels_drop, inplace=True)"
   ]
  }
 ],
 "metadata": {
  "kernelspec": {
   "display_name": "base",
   "language": "python",
   "name": "python3"
  },
  "language_info": {
   "codemirror_mode": {
    "name": "ipython",
    "version": 3
   },
   "file_extension": ".py",
   "mimetype": "text/x-python",
   "name": "python",
   "nbconvert_exporter": "python",
   "pygments_lexer": "ipython3",
   "version": "3.13.2"
  }
 },
 "nbformat": 4,
 "nbformat_minor": 5
}
