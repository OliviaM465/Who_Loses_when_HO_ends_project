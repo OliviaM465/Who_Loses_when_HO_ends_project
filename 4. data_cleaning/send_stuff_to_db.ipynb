{
 "cells": [
  {
   "cell_type": "code",
   "execution_count": 1,
   "id": "5d10ad4d",
   "metadata": {},
   "outputs": [],
   "source": [
    "import pandas as pd\n",
    "from sqlalchemy import create_engine, types\n",
    "from sqlalchemy import text # to be able to pass string"
   ]
  },
  {
   "cell_type": "code",
   "execution_count": 3,
   "id": "15b9bcff",
   "metadata": {},
   "outputs": [],
   "source": [
    "# Let's load values from the .env file\n",
    "from dotenv import dotenv_values\n",
    "\n",
    "config = dotenv_values()\n",
    "\n",
    "# define variables for the login\n",
    "pg_user = config['POSTGRES_USER']  # align the key label with your .env file !\n",
    "pg_host = config['POSTGRES_HOST']\n",
    "pg_port = config['POSTGRES_PORT']\n",
    "pg_db = config['POSTGRES_DB']\n",
    "pg_schema = config['POSTGRES_SCHEMA']\n",
    "pg_pass = config['POSTGRES_PASS']"
   ]
  },
  {
   "cell_type": "code",
   "execution_count": 4,
   "id": "3b64eccd",
   "metadata": {},
   "outputs": [],
   "source": [
    "# Now building the URL with the values from the .env file\n",
    "\n",
    "url = f'postgresql://{pg_user}:{pg_pass}@{pg_host}:{pg_port}/{pg_db}'\n",
    "\n",
    "# without specifying the schema default connection is to the schema `public`\n",
    "# url = f'postgresql://{pg_user}:{pg_pass}@{pg_host}:{pg_port}/{pg_db}'"
   ]
  },
  {
   "cell_type": "code",
   "execution_count": 5,
   "id": "fe34be49",
   "metadata": {},
   "outputs": [],
   "source": [
    "engine = create_engine(url, echo=False)"
   ]
  },
  {
   "cell_type": "code",
   "execution_count": 6,
   "id": "3b8d1e6e",
   "metadata": {},
   "outputs": [],
   "source": [
    "my_schema = 'team_2' # update it to your schema\n",
    "\n",
    "with engine.begin() as conn: \n",
    "    result = conn.execute(text(f'SET search_path TO {my_schema};'))"
   ]
  },
  {
   "cell_type": "code",
   "execution_count": 7,
   "id": "efa939f8",
   "metadata": {},
   "outputs": [],
   "source": [
    "annual_countries_long = pd.read_csv(\"/Users/nazd/Desktop/nf_bootcamp/Who_Loses_project/annual_countries_long_countries.csv\")"
   ]
  },
  {
   "cell_type": "code",
   "execution_count": 9,
   "id": "1f4b71e6",
   "metadata": {},
   "outputs": [
    {
     "data": {
      "text/plain": [
       "290"
      ]
     },
     "execution_count": 9,
     "metadata": {},
     "output_type": "execute_result"
    }
   ],
   "source": [
    "annual_countries_long.to_sql(\n",
    "    name='home_office_per_country_long',\n",
    "    con=engine,\n",
    "    if_exists='replace',\n",
    "    index=False\n",
    ")"
   ]
  },
  {
   "cell_type": "markdown",
   "id": "0889a6a1",
   "metadata": {},
   "source": [
    "# From DB\n",
    "\n",
    "## These are average values for countries for all years\n",
    "\n",
    "- Bulgaria\t2.5\n",
    "- Romania\t2.5300000000000002\n",
    "- Türkiye\t4.11\n",
    "- Cyprus\t6.780000000000001\n",
    "- Serbia\t7.25\n",
    "- Latvia\t7.4\n",
    "- Greece\t7.9700000000000015\n",
    "- Lithuania\t8.23\n",
    "- Hungary\t8.55\n",
    "- Italy\t8.57\n",
    "- Croatia\t9.4\n",
    "- Spain\t10.960000000000003\n",
    "- Slovakia\t10.989999999999998\n",
    "- Czechia\t11.989999999999998\n",
    "- Poland\t14.750000000000004\n",
    "- Malta\t17.54\n",
    "- Germany\t17.540000000000003\n",
    "- Portugal\t17.880000000000003\n",
    "- Slovenia\t19.28\n",
    "- Estonia\t21.6\n",
    "- Austria\t25.340000000000003\n",
    "- Ireland\t26.580000000000002\n",
    "- France\t26.889999999999997\n",
    "- Belgium\t29.759999999999998\n",
    "- Denmark\t34.01\n",
    "- Finland\t34.33\n",
    "- Luxembourg\t35.57\n",
    "- Sweden\t37.01\n",
    "- Netherlands\t42.17999999999999"
   ]
  },
  {
   "cell_type": "markdown",
   "id": "319102be",
   "metadata": {},
   "source": []
  },
  {
   "cell_type": "markdown",
   "id": "b4be6756",
   "metadata": {},
   "source": []
  }
 ],
 "metadata": {
  "kernelspec": {
   "display_name": "base",
   "language": "python",
   "name": "python3"
  },
  "language_info": {
   "codemirror_mode": {
    "name": "ipython",
    "version": 3
   },
   "file_extension": ".py",
   "mimetype": "text/x-python",
   "name": "python",
   "nbconvert_exporter": "python",
   "pygments_lexer": "ipython3",
   "version": "3.13.2"
  }
 },
 "nbformat": 4,
 "nbformat_minor": 5
}
