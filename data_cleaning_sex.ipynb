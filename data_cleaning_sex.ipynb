{
 "cells": [
  {
   "cell_type": "code",
   "execution_count": 2,
   "id": "24e86eff",
   "metadata": {},
   "outputs": [],
   "source": [
    "import pandas as pd"
   ]
  },
  {
   "cell_type": "code",
   "execution_count": 3,
   "id": "5e57c34f",
   "metadata": {},
   "outputs": [],
   "source": [
    "\n",
    "file_path = 'data/Female_Commuting_data.xlsx'\n",
    "all_sheets = pd.ExcelFile(file_path)  "
   ]
  },
  {
   "cell_type": "code",
   "execution_count": 4,
   "id": "96bebc79",
   "metadata": {},
   "outputs": [],
   "source": [
    "flag_sheets = {f\"Flags {i}\" for i in range(1, 126)}"
   ]
  },
  {
   "cell_type": "code",
   "execution_count": 5,
   "id": "d301e4b7",
   "metadata": {},
   "outputs": [],
   "source": [
    "exclude = {\"summary\", \"structure\"}\n",
    "exclude.update(flag_sheets)"
   ]
  },
  {
   "cell_type": "code",
   "execution_count": 6,
   "id": "a352ceed",
   "metadata": {},
   "outputs": [],
   "source": [
    "cleaned_sheets = {}\n",
    "\n",
    "\n",
    "for sheet_name in all_sheets.sheet_names:\n",
    "    if sheet_name.strip().lower() in {s.lower() for s in exclude}:\n",
    "        continue\n",
    "\n",
    "   \n",
    "    df = pd.read_excel(all_sheets, sheet_name=sheet_name)\n",
    "    df = df.iloc[11:].reset_index(drop=True)     \n",
    "    df.columns = df.iloc[0]                      \n",
    "    df = df[1:].reset_index(drop=True)           \n",
    "\n",
    "    cleaned_sheets[sheet_name] = df"
   ]
  },
  {
   "cell_type": "code",
   "execution_count": 7,
   "id": "ee39b015",
   "metadata": {},
   "outputs": [
    {
     "name": "stdout",
     "output_type": "stream",
     "text": [
      "Sheet: Sheet 1\n",
      "0                          DURATION (Labels) Zero minutes From 1 to 9 minutes  \\\n",
      "0                               GEO (Labels)          NaN                 NaN   \n",
      "1  European Union - 27 countries (from 2020)        662.6              3171.8   \n",
      "2  European Union - 28 countries (2013-2020)        859.1              3801.7   \n",
      "3      Euro area - 19 countries  (2015-2022)          486              2645.6   \n",
      "4                                    Belgium         30.5                71.9   \n",
      "\n",
      "0 From 1 to 14 minutes 1 minute or over From 10 to 14 minutes  \\\n",
      "0                  NaN              NaN                   NaN   \n",
      "1               6842.1          24367.9                3670.2   \n",
      "2               8240.7          29434.2                4438.9   \n",
      "3               5514.9          18599.1                2869.3   \n",
      "4                168.7            688.3                  96.8   \n",
      "\n",
      "0 From 15 to 19 minutes From 15 to 29 minutes From 20 to 29 minutes  \\\n",
      "0                   NaN                   NaN                   NaN   \n",
      "1                3683.8                8669.4                4985.6   \n",
      "2                4318.3               10243.9                5925.6   \n",
      "3                2748.4                6500.7                3752.3   \n",
      "4                 112.7                 257.2                 144.5   \n",
      "\n",
      "0 From 30 to 44 minutes From 30 to 59 minutes 30 minutes or over  \\\n",
      "0                   NaN                   NaN                NaN   \n",
      "1                5426.5                6928.6             8856.4   \n",
      "2                6514.3                  8428            10949.7   \n",
      "3                3897.2                5056.1             6583.5   \n",
      "4                 144.9                   200              262.4   \n",
      "\n",
      "0 From 45 to 59 minutes 60 minutes or over No response  \n",
      "0                   NaN                NaN         NaN  \n",
      "1                1502.1             1927.8       917.4  \n",
      "2                1913.7             2521.6       987.4  \n",
      "3                1158.9             1527.5       674.2  \n",
      "4                  55.1               62.4           :  \n"
     ]
    }
   ],
   "source": [
    "sheet = list(cleaned_sheets.keys())[0]\n",
    "print(f\"Sheet: {sheet}\")\n",
    "print(cleaned_sheets[sheet].head())"
   ]
  },
  {
   "cell_type": "code",
   "execution_count": 14,
   "id": "eaed1778",
   "metadata": {},
   "outputs": [],
   "source": [
    "education_levels = {\n",
    "    \"All ISCED 2011 levels\": [\n",
    "        *range(1, 6), *range(26, 31), *range(51, 56), *range(76, 81), *range(101, 106)\n",
    "    ],\n",
    "    \"ISCED 0–2\": [\n",
    "        *range(6, 11), *range(31, 36), *range(56, 61), *range(81, 86), *range(106, 111)\n",
    "    ],\n",
    "    \"ISCED 3–4\": [\n",
    "        *range(11, 16), *range(36, 41), *range(61, 66), *range(86, 91), *range(111, 116)\n",
    "    ],\n",
    "    \"ISCED 5–8\": [\n",
    "        *range(16, 21), *range(41, 46), *range(66, 71), *range(91, 96), *range(116, 121)\n",
    "    ],\n",
    "    \"No response\": [\n",
    "        *range(21, 26), *range(46, 51), *range(71, 76), *range(96, 101), *range(121, 126)\n",
    "    ],\n",
    "}\n",
    "\n",
    "degree_of_urbanisation = {\n",
    "    \"Total\": list(range(1, 26)),\n",
    "    \"Cities\": list(range(26, 51)),\n",
    "    \"Towns and suburbs\": list(range(51, 76)),\n",
    "    \"Rural areas\": list(range(76, 101)),\n",
    "    \"No response\": list(range(101, 126)),\n",
    "}\n",
    "\n",
    "age_class = {\n",
    "    \"From 15 to 34 years\": [1, 6, 11, 16, 21, 26, 31, 36, 41, 46, 51, 56, 61, 66, 71, 76, 81, 86, 91, 96, 101, 106, 111, 116, 121],\n",
    "    \"From 15 to 74 years\": [2, 7, 12, 17, 22, 27, 32, 37, 42, 47, 52, 57, 62, 67, 72, 77, 82, 87, 92, 97, 102, 107, 112, 117, 122],\n",
    "    \"From 20 to 64 years\": [3, 8, 13, 18, 23, 28, 33, 38, 43, 48, 53, 58, 63, 68, 73, 78, 83, 88, 93, 98, 103, 108, 113, 118, 123],\n",
    "    \"From 35 to 49 years\": [4, 9, 14, 19, 24, 29, 34, 39, 44, 49, 54, 59, 64, 69, 74, 79, 84, 89, 94, 99, 104, 109, 114, 119, 124],\n",
    "    \"From 50 to 74 years\": [5, 10, 15, 20, 25, 30, 35, 40, 45, 50, 55, 60, 65, 70, 75, 80, 85, 90, 95, 100, 105, 110, 115, 120, 125],\n",
    "}\n"
   ]
  },
  {
   "cell_type": "code",
   "execution_count": 17,
   "id": "0253fbe1",
   "metadata": {},
   "outputs": [],
   "source": [
    "def lookup_category(index, mapping):\n",
    "    for label, index_list in mapping.items():\n",
    "        if index in index_list:\n",
    "            return label\n",
    "    return None"
   ]
  },
  {
   "cell_type": "code",
   "execution_count": 18,
   "id": "6946a2b7",
   "metadata": {},
   "outputs": [],
   "source": [
    "import re\n",
    "\n",
    "def extract_sheet_number(name):\n",
    "    match = re.search(r'\\d+', name)\n",
    "    return int(match.group()) if match else None\n",
    "\n",
    "sorted_sheet_names = sorted(cleaned_sheets.keys(), key=extract_sheet_number)"
   ]
  },
  {
   "cell_type": "code",
   "execution_count": 19,
   "id": "b6ca1dd7",
   "metadata": {},
   "outputs": [],
   "source": [
    "final_sheets = []\n",
    "\n",
    "for sheet_name in sorted_sheet_names:\n",
    "    df = cleaned_sheets[sheet_name].copy()\n",
    "    \n",
    "    idx = extract_sheet_number(sheet_name)\n",
    "\n",
    "    df[\"sheet_name\"] = sheet_name\n",
    "    \n",
    "    df[\"education_level\"] = lookup_category(idx, education_levels)\n",
    "    df[\"urbanisation_degree\"] = lookup_category(idx, degree_of_urbanisation)\n",
    "    df[\"age_class\"] = lookup_category(idx, age_class)\n",
    "    df[\"sex\"] = \"Female\"\n",
    "    \n",
    "    final_sheets.append(df)\n"
   ]
  },
  {
   "cell_type": "code",
   "execution_count": 20,
   "id": "c15ddc40",
   "metadata": {},
   "outputs": [
    {
     "name": "stdout",
     "output_type": "stream",
     "text": [
      "0                          DURATION (Labels) Zero minutes From 1 to 9 minutes  \\\n",
      "0                               GEO (Labels)          NaN                 NaN   \n",
      "1  European Union - 27 countries (from 2020)        662.6              3171.8   \n",
      "2  European Union - 28 countries (2013-2020)        859.1              3801.7   \n",
      "3      Euro area - 19 countries  (2015-2022)          486              2645.6   \n",
      "4                                    Belgium         30.5                71.9   \n",
      "\n",
      "0 From 1 to 14 minutes 1 minute or over From 10 to 14 minutes  \\\n",
      "0                  NaN              NaN                   NaN   \n",
      "1               6842.1          24367.9                3670.2   \n",
      "2               8240.7          29434.2                4438.9   \n",
      "3               5514.9          18599.1                2869.3   \n",
      "4                168.7            688.3                  96.8   \n",
      "\n",
      "0 From 15 to 19 minutes From 15 to 29 minutes From 20 to 29 minutes  \\\n",
      "0                   NaN                   NaN                   NaN   \n",
      "1                3683.8                8669.4                4985.6   \n",
      "2                4318.3               10243.9                5925.6   \n",
      "3                2748.4                6500.7                3752.3   \n",
      "4                 112.7                 257.2                 144.5   \n",
      "\n",
      "0 From 30 to 44 minutes From 30 to 59 minutes 30 minutes or over  \\\n",
      "0                   NaN                   NaN                NaN   \n",
      "1                5426.5                6928.6             8856.4   \n",
      "2                6514.3                  8428            10949.7   \n",
      "3                3897.2                5056.1             6583.5   \n",
      "4                 144.9                   200              262.4   \n",
      "\n",
      "0 From 45 to 59 minutes 60 minutes or over No response sheet_name  \\\n",
      "0                   NaN                NaN         NaN    Sheet 1   \n",
      "1                1502.1             1927.8       917.4    Sheet 1   \n",
      "2                1913.7             2521.6       987.4    Sheet 1   \n",
      "3                1158.9             1527.5       674.2    Sheet 1   \n",
      "4                  55.1               62.4           :    Sheet 1   \n",
      "\n",
      "0        education_level urbanisation_degree            age_class     sex  \n",
      "0  All ISCED 2011 levels               Total  From 15 to 34 years  Female  \n",
      "1  All ISCED 2011 levels               Total  From 15 to 34 years  Female  \n",
      "2  All ISCED 2011 levels               Total  From 15 to 34 years  Female  \n",
      "3  All ISCED 2011 levels               Total  From 15 to 34 years  Female  \n",
      "4  All ISCED 2011 levels               Total  From 15 to 34 years  Female  \n"
     ]
    }
   ],
   "source": [
    "print(final_sheets[0].head())"
   ]
  },
  {
   "cell_type": "code",
   "execution_count": 22,
   "id": "666e6c03",
   "metadata": {},
   "outputs": [],
   "source": [
    "combined_df = pd.concat(final_sheets, ignore_index=True)"
   ]
  },
  {
   "cell_type": "code",
   "execution_count": 23,
   "id": "e973fec2",
   "metadata": {},
   "outputs": [],
   "source": [
    "combined_df = combined_df[\n",
    "    ~combined_df.iloc[:, 0].isin([\"GEO (Labels)\", \"Special value\", \":\"])\n",
    "].reset_index(drop=True)"
   ]
  },
  {
   "cell_type": "code",
   "execution_count": 24,
   "id": "afab6fdc",
   "metadata": {},
   "outputs": [],
   "source": [
    "combined_df = combined_df.rename(columns={\"DURATION (Labels)\": \"Region\"})"
   ]
  },
  {
   "cell_type": "code",
   "execution_count": 25,
   "id": "2abbab37",
   "metadata": {},
   "outputs": [
    {
     "name": "stdout",
     "output_type": "stream",
     "text": [
      "['Region', 'Zero minutes', 'From 1 to 9 minutes', 'From 1 to 14 minutes', '1 minute or over', 'From 10 to 14 minutes', 'From 15 to 19 minutes', 'From 15 to 29 minutes', 'From 20 to 29 minutes', 'From 30 to 44 minutes', 'From 30 to 59 minutes', '30 minutes or over', 'From 45 to 59 minutes', '60 minutes or over', 'No response', 'sheet_name', 'education_level', 'urbanisation_degree', 'age_class', 'sex']\n"
     ]
    }
   ],
   "source": [
    "print(combined_df.columns.tolist())"
   ]
  },
  {
   "cell_type": "code",
   "execution_count": 26,
   "id": "bae605a3",
   "metadata": {},
   "outputs": [],
   "source": [
    "combined_df.to_excel(\"cleaned_commuting_data_female.xlsx\", index=False)"
   ]
  }
 ],
 "metadata": {
  "kernelspec": {
   "display_name": "base",
   "language": "python",
   "name": "python3"
  },
  "language_info": {
   "codemirror_mode": {
    "name": "ipython",
    "version": 3
   },
   "file_extension": ".py",
   "mimetype": "text/x-python",
   "name": "python",
   "nbconvert_exporter": "python",
   "pygments_lexer": "ipython3",
   "version": "3.13.2"
  }
 },
 "nbformat": 4,
 "nbformat_minor": 5
}
