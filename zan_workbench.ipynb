{
 "cells": [
  {
   "cell_type": "code",
   "execution_count": 1,
   "id": "2007c65c",
   "metadata": {},
   "outputs": [],
   "source": [
    "import pandas as pd\n",
    "import numpy as np"
   ]
  },
  {
   "cell_type": "markdown",
   "id": "0b358670",
   "metadata": {},
   "source": [
    "# Data cleaning\n",
    "\n",
    "The big dataset has some issues:\n",
    "\n",
    "- possible white space in stings\n",
    "- Column names have spaces instead of _\n",
    "- Column names and certain dimensions (age) have long names\n",
    "- Date and floats are stored as strings\n",
    "- Null values are actually stored as :"
   ]
  },
  {
   "cell_type": "code",
   "execution_count": null,
   "id": "41278716",
   "metadata": {},
   "outputs": [],
   "source": [
    "# strip all white space from fields\n",
    "\n",
    "df = df.astype(str).apply(lambda x: x.str.strip())"
   ]
  },
  {
   "cell_type": "code",
   "execution_count": null,
   "id": "ea9feb35",
   "metadata": {},
   "outputs": [],
   "source": [
    "# rename columns with metrics (minutes)\n",
    "\n",
    "df.rename(columns={'Zero minutes':'0', 'From 1 to 9 minutes': '1-9', 'From 1 to 14 minutes': '1-14', '1 minute or over': '1+', 'From 10 to 14 minutes': '10-14', 'From 15 to 19 minutes': '15-19', 'From 15 to 29 minutes': '15-29', 'From 20 to 29 minutes': '20-29', 'From 30 to 44 minutes': '30-44', 'From 30 to 59 minutes': '30-59', '30 minutes or over': '30+', 'From 45 to 59 minutes': '45-59', '60 minutes or over': '60+', 'No response: No_response'}, inplace=True)\n"
   ]
  },
  {
   "cell_type": "code",
   "execution_count": null,
   "id": "7d4c0828",
   "metadata": {},
   "outputs": [],
   "source": [
    "# rename columns with other dimensions\n",
    "\n",
    "df.rename(columns={'Time':'Year', 'International Standard Classification of Education (ISCED 2011)': 'Education', 'Degree of urbanisation': 'Urbanization_degree',}, inplace=True)\n"
   ]
  },
  {
   "cell_type": "code",
   "execution_count": null,
   "id": "6556420c",
   "metadata": {},
   "outputs": [],
   "source": [
    "# rename dimesntions (age) to drop unnecesary...\n",
    "\n",
    "df['Age class'] = df['Age class'].str.replace('From ', '').str.replace(' to ', '-').str.replace(' years', '')"
   ]
  },
  {
   "cell_type": "code",
   "execution_count": null,
   "id": "79beb298",
   "metadata": {},
   "outputs": [],
   "source": [
    "# change Year to year date type\n",
    "\n",
    "df['Year'] = pd.to_datetime(df['Year'], format='%Y')"
   ]
  },
  {
   "cell_type": "code",
   "execution_count": null,
   "id": "60f7431c",
   "metadata": {},
   "outputs": [],
   "source": [
    "# change the values - drop the comma and change the decimal separator to dot\n",
    "\n",
    "columns_to_convert = ['0', '1-9', '1-14', '1+', '10-14', '15-19', '15-29', '20-29', '30-44', '30-59', '30+', '45-59', '60+', 'No_response']\n",
    "\n",
    "for col in columns_to_convert:\n",
    "    df[col] = df[col].str.replace('.', '', regex=False).str.replace(',', '.', regex=False)\n",
    "    df[col] = pd.to_numeric(df[col], errors='coerce')\n",
    "\n",
    "\n"
   ]
  },
  {
   "cell_type": "code",
   "execution_count": null,
   "id": "45208e0b",
   "metadata": {},
   "outputs": [],
   "source": [
    "# create null values out of : if the previous code does not work\n",
    "\n",
    "# df = df.replace(to_replace=':.*', value=np.nan, regex=True)"
   ]
  },
  {
   "cell_type": "code",
   "execution_count": null,
   "id": "64252179",
   "metadata": {},
   "outputs": [],
   "source": [
    "# drop if country has no value (meaning row is supposed to be empty)\n",
    "\n",
    "df.dropna(subset=['Region'], inplace=True)"
   ]
  },
  {
   "cell_type": "code",
   "execution_count": null,
   "id": "8fd71e4f",
   "metadata": {},
   "outputs": [],
   "source": [
    "# check for missing values\n",
    "\n",
    "df.isna().sum()"
   ]
  },
  {
   "cell_type": "markdown",
   "id": "f431687f",
   "metadata": {},
   "source": [
    "# Ovelapping dimensions\n",
    "\n",
    "Commuting dimensions are overlapping, e.g. \"From 1 to 9 minutes and\tFrom 1 to 14 minutes\"\n",
    "\n",
    "To make it managable I am suggesting storing it in different df by the level of granularity."
   ]
  },
  {
   "cell_type": "code",
   "execution_count": null,
   "id": "5fd363ae",
   "metadata": {},
   "outputs": [],
   "source": [
    "#granular_labels = ['0','1-9', '10-14', '15-19', '20-29', '30-44', '45-59', '60+', 'No_response']\n",
    "\n",
    "#medium_labels = ['0', '1-14', '15-29', '30-59', '60+', 'No_response']\n",
    "\n",
    "#broad_labels = ['0', '1+', '30+', '60+', 'No_response']\n",
    "\n"
   ]
  },
  {
   "cell_type": "code",
   "execution_count": null,
   "id": "f3bbca5c",
   "metadata": {},
   "outputs": [],
   "source": [
    "granular_labels_drop = ['1-14', '15-29', '30-59', '1+', '30+']\n",
    "\n",
    "medium_labels_drop = ['1-9', '10-14', '15-19', '20-29', '30-44', '45-59','1+', '30+',]\n",
    "\n",
    "broad_labels_drop = ['1-9', '10-14', '15-19', '20-29', '30-44', '45-59', '1-14', '15-29', '30-59']\n",
    "\n"
   ]
  },
  {
   "cell_type": "code",
   "execution_count": null,
   "id": "a66c1c47",
   "metadata": {},
   "outputs": [],
   "source": [
    "df_granular = df.copy()\n",
    "dr_granular.drop(columns = granular_labels_drop, inplace=True)"
   ]
  },
  {
   "cell_type": "code",
   "execution_count": null,
   "id": "068fe5da",
   "metadata": {},
   "outputs": [],
   "source": [
    "df_medium = df.copy()\n",
    "dr_medium.drop(columns = medium_labels_drop, inplace=True)"
   ]
  },
  {
   "cell_type": "code",
   "execution_count": null,
   "id": "378a7e64",
   "metadata": {},
   "outputs": [],
   "source": [
    "df_broad = df.copy()\n",
    "dr_broad.drop(columns = broad_labels_drop, inplace=True)"
   ]
  }
 ],
 "metadata": {
  "kernelspec": {
   "display_name": "base",
   "language": "python",
   "name": "python3"
  },
  "language_info": {
   "codemirror_mode": {
    "name": "ipython",
    "version": 3
   },
   "file_extension": ".py",
   "mimetype": "text/x-python",
   "name": "python",
   "nbconvert_exporter": "python",
   "pygments_lexer": "ipython3",
   "version": "3.13.2"
  }
 },
 "nbformat": 4,
 "nbformat_minor": 5
}
