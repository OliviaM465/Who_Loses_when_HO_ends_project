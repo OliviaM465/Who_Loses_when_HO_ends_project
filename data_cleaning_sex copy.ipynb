{
 "cells": [
  {
   "cell_type": "code",
   "execution_count": 1,
   "id": "24e86eff",
   "metadata": {},
   "outputs": [],
   "source": [
    "import pandas as pd"
   ]
  },
  {
   "cell_type": "code",
   "execution_count": 2,
   "id": "5e57c34f",
   "metadata": {},
   "outputs": [],
   "source": [
    "\n",
    "file_path = 'data/Male_Commuting_data.xlsx'\n",
    "all_sheets = pd.ExcelFile(file_path)  "
   ]
  },
  {
   "cell_type": "code",
   "execution_count": 3,
   "id": "96bebc79",
   "metadata": {},
   "outputs": [],
   "source": [
    "flag_sheets = {f\"Flags {i}\" for i in range(1, 126)}"
   ]
  },
  {
   "cell_type": "code",
   "execution_count": 7,
   "id": "d301e4b7",
   "metadata": {},
   "outputs": [],
   "source": [
    "exclude = {\"summary\", \"structure\", \"Tabellenblatt2\"}\n",
    "exclude.update(flag_sheets)"
   ]
  },
  {
   "cell_type": "code",
   "execution_count": 8,
   "id": "a352ceed",
   "metadata": {},
   "outputs": [],
   "source": [
    "cleaned_sheets = {}\n",
    "\n",
    "\n",
    "for sheet_name in all_sheets.sheet_names:\n",
    "    if sheet_name.strip().lower() in {s.lower() for s in exclude}:\n",
    "        continue\n",
    "\n",
    "   \n",
    "    df = pd.read_excel(all_sheets, sheet_name=sheet_name)\n",
    "    df = df.iloc[11:].reset_index(drop=True)     \n",
    "    df.columns = df.iloc[0]                      \n",
    "    df = df[1:].reset_index(drop=True)           \n",
    "\n",
    "    cleaned_sheets[sheet_name] = df"
   ]
  },
  {
   "cell_type": "code",
   "execution_count": 9,
   "id": "ee39b015",
   "metadata": {},
   "outputs": [
    {
     "name": "stdout",
     "output_type": "stream",
     "text": [
      "Sheet: Sheet 1\n",
      "0                          DURATION (Labels) Zero minutes From 1 to 9 minutes  \\\n",
      "0                               GEO (Labels)          NaN                 NaN   \n",
      "1  European Union - 27 countries (from 2020)        895.3              3714.5   \n",
      "2  European Union - 28 countries (2013-2020)       1090.6              4328.2   \n",
      "3      Euro area - 19 countries  (2015-2022)        624.2              3057.2   \n",
      "4                                    Belgium         48.4                71.9   \n",
      "\n",
      "0 From 1 to 14 minutes 1 minute or over From 10 to 14 minutes  \\\n",
      "0                  NaN              NaN                   NaN   \n",
      "1               7822.7          28722.4                4108.2   \n",
      "2               9170.1          34294.9                  4842   \n",
      "3               6256.7          21383.1                3199.5   \n",
      "4                161.5            744.3                  89.6   \n",
      "\n",
      "0 From 15 to 19 minutes From 15 to 29 minutes From 20 to 29 minutes  \\\n",
      "0                   NaN                   NaN                   NaN   \n",
      "1                4178.9                9893.5                5714.6   \n",
      "2                4806.4               11565.5                6759.1   \n",
      "3                3062.9                7253.3                4190.4   \n",
      "4                 101.3                 253.5                 152.2   \n",
      "\n",
      "0 From 30 to 44 minutes From 30 to 59 minutes 30 minutes or over  \\\n",
      "0                   NaN                   NaN                NaN   \n",
      "1                6539.6                8429.7            11006.2   \n",
      "2                7807.6               10163.9            13559.2   \n",
      "3                4560.2                5933.7               7873   \n",
      "4                 168.7                 235.1              329.3   \n",
      "\n",
      "0 From 45 to 59 minutes 60 minutes or over No response  \n",
      "0                   NaN                NaN         NaN  \n",
      "1                1890.1             2576.5      1610.4  \n",
      "2                2356.3             3395.3      1793.7  \n",
      "3                1373.5             1939.4      1115.3  \n",
      "4                  66.5               94.2         4.9  \n"
     ]
    }
   ],
   "source": [
    "sheet = list(cleaned_sheets.keys())[0]\n",
    "print(f\"Sheet: {sheet}\")\n",
    "print(cleaned_sheets[sheet].head())"
   ]
  },
  {
   "cell_type": "code",
   "execution_count": 10,
   "id": "eaed1778",
   "metadata": {},
   "outputs": [],
   "source": [
    "education_levels = {\n",
    "    \"All ISCED 2011 levels\": [\n",
    "        *range(1, 6), *range(26, 31), *range(51, 56), *range(76, 81), *range(101, 106)\n",
    "    ],\n",
    "    \"ISCED 0–2\": [\n",
    "        *range(6, 11), *range(31, 36), *range(56, 61), *range(81, 86), *range(106, 111)\n",
    "    ],\n",
    "    \"ISCED 3–4\": [\n",
    "        *range(11, 16), *range(36, 41), *range(61, 66), *range(86, 91), *range(111, 116)\n",
    "    ],\n",
    "    \"ISCED 5–8\": [\n",
    "        *range(16, 21), *range(41, 46), *range(66, 71), *range(91, 96), *range(116, 121)\n",
    "    ],\n",
    "    \"No response\": [\n",
    "        *range(21, 26), *range(46, 51), *range(71, 76), *range(96, 101), *range(121, 126)\n",
    "    ],\n",
    "}\n",
    "\n",
    "degree_of_urbanisation = {\n",
    "    \"Total\": list(range(1, 26)),\n",
    "    \"Cities\": list(range(26, 51)),\n",
    "    \"Towns and suburbs\": list(range(51, 76)),\n",
    "    \"Rural areas\": list(range(76, 101)),\n",
    "    \"No response\": list(range(101, 126)),\n",
    "}\n",
    "\n",
    "age_class = {\n",
    "    \"From 15 to 34 years\": [1, 6, 11, 16, 21, 26, 31, 36, 41, 46, 51, 56, 61, 66, 71, 76, 81, 86, 91, 96, 101, 106, 111, 116, 121],\n",
    "    \"From 15 to 74 years\": [2, 7, 12, 17, 22, 27, 32, 37, 42, 47, 52, 57, 62, 67, 72, 77, 82, 87, 92, 97, 102, 107, 112, 117, 122],\n",
    "    \"From 20 to 64 years\": [3, 8, 13, 18, 23, 28, 33, 38, 43, 48, 53, 58, 63, 68, 73, 78, 83, 88, 93, 98, 103, 108, 113, 118, 123],\n",
    "    \"From 35 to 49 years\": [4, 9, 14, 19, 24, 29, 34, 39, 44, 49, 54, 59, 64, 69, 74, 79, 84, 89, 94, 99, 104, 109, 114, 119, 124],\n",
    "    \"From 50 to 74 years\": [5, 10, 15, 20, 25, 30, 35, 40, 45, 50, 55, 60, 65, 70, 75, 80, 85, 90, 95, 100, 105, 110, 115, 120, 125],\n",
    "}\n"
   ]
  },
  {
   "cell_type": "code",
   "execution_count": 11,
   "id": "0253fbe1",
   "metadata": {},
   "outputs": [],
   "source": [
    "def lookup_category(index, mapping):\n",
    "    for label, index_list in mapping.items():\n",
    "        if index in index_list:\n",
    "            return label\n",
    "    return None"
   ]
  },
  {
   "cell_type": "code",
   "execution_count": 12,
   "id": "6946a2b7",
   "metadata": {},
   "outputs": [],
   "source": [
    "import re\n",
    "\n",
    "def extract_sheet_number(name):\n",
    "    match = re.search(r'\\d+', name)\n",
    "    return int(match.group()) if match else None\n",
    "\n",
    "sorted_sheet_names = sorted(cleaned_sheets.keys(), key=extract_sheet_number)"
   ]
  },
  {
   "cell_type": "code",
   "execution_count": 13,
   "id": "b6ca1dd7",
   "metadata": {},
   "outputs": [],
   "source": [
    "final_sheets = []\n",
    "\n",
    "for sheet_name in sorted_sheet_names:\n",
    "    df = cleaned_sheets[sheet_name].copy()\n",
    "    \n",
    "    idx = extract_sheet_number(sheet_name)\n",
    "\n",
    "    df[\"sheet_name\"] = sheet_name\n",
    "    \n",
    "    df[\"education_level\"] = lookup_category(idx, education_levels)\n",
    "    df[\"urbanisation_degree\"] = lookup_category(idx, degree_of_urbanisation)\n",
    "    df[\"age_class\"] = lookup_category(idx, age_class)\n",
    "    df[\"sex\"] = \"Male\"\n",
    "    \n",
    "    final_sheets.append(df)\n"
   ]
  },
  {
   "cell_type": "code",
   "execution_count": 14,
   "id": "c15ddc40",
   "metadata": {},
   "outputs": [
    {
     "name": "stdout",
     "output_type": "stream",
     "text": [
      "0                          DURATION (Labels) Zero minutes From 1 to 9 minutes  \\\n",
      "0                               GEO (Labels)          NaN                 NaN   \n",
      "1  European Union - 27 countries (from 2020)        895.3              3714.5   \n",
      "2  European Union - 28 countries (2013-2020)       1090.6              4328.2   \n",
      "3      Euro area - 19 countries  (2015-2022)        624.2              3057.2   \n",
      "4                                    Belgium         48.4                71.9   \n",
      "\n",
      "0 From 1 to 14 minutes 1 minute or over From 10 to 14 minutes  \\\n",
      "0                  NaN              NaN                   NaN   \n",
      "1               7822.7          28722.4                4108.2   \n",
      "2               9170.1          34294.9                  4842   \n",
      "3               6256.7          21383.1                3199.5   \n",
      "4                161.5            744.3                  89.6   \n",
      "\n",
      "0 From 15 to 19 minutes From 15 to 29 minutes From 20 to 29 minutes  \\\n",
      "0                   NaN                   NaN                   NaN   \n",
      "1                4178.9                9893.5                5714.6   \n",
      "2                4806.4               11565.5                6759.1   \n",
      "3                3062.9                7253.3                4190.4   \n",
      "4                 101.3                 253.5                 152.2   \n",
      "\n",
      "0 From 30 to 44 minutes From 30 to 59 minutes 30 minutes or over  \\\n",
      "0                   NaN                   NaN                NaN   \n",
      "1                6539.6                8429.7            11006.2   \n",
      "2                7807.6               10163.9            13559.2   \n",
      "3                4560.2                5933.7               7873   \n",
      "4                 168.7                 235.1              329.3   \n",
      "\n",
      "0 From 45 to 59 minutes 60 minutes or over No response sheet_name  \\\n",
      "0                   NaN                NaN         NaN    Sheet 1   \n",
      "1                1890.1             2576.5      1610.4    Sheet 1   \n",
      "2                2356.3             3395.3      1793.7    Sheet 1   \n",
      "3                1373.5             1939.4      1115.3    Sheet 1   \n",
      "4                  66.5               94.2         4.9    Sheet 1   \n",
      "\n",
      "0        education_level urbanisation_degree            age_class   sex  \n",
      "0  All ISCED 2011 levels               Total  From 15 to 34 years  Male  \n",
      "1  All ISCED 2011 levels               Total  From 15 to 34 years  Male  \n",
      "2  All ISCED 2011 levels               Total  From 15 to 34 years  Male  \n",
      "3  All ISCED 2011 levels               Total  From 15 to 34 years  Male  \n",
      "4  All ISCED 2011 levels               Total  From 15 to 34 years  Male  \n"
     ]
    }
   ],
   "source": [
    "print(final_sheets[0].head())"
   ]
  },
  {
   "cell_type": "code",
   "execution_count": 15,
   "id": "666e6c03",
   "metadata": {},
   "outputs": [],
   "source": [
    "combined_df = pd.concat(final_sheets, ignore_index=True)"
   ]
  },
  {
   "cell_type": "code",
   "execution_count": 16,
   "id": "e973fec2",
   "metadata": {},
   "outputs": [],
   "source": [
    "combined_df = combined_df[\n",
    "    ~combined_df.iloc[:, 0].isin([\"GEO (Labels)\", \"Special value\", \":\"])\n",
    "].reset_index(drop=True)"
   ]
  },
  {
   "cell_type": "code",
   "execution_count": 17,
   "id": "afab6fdc",
   "metadata": {},
   "outputs": [],
   "source": [
    "combined_df = combined_df.rename(columns={\"DURATION (Labels)\": \"Region\"})"
   ]
  },
  {
   "cell_type": "code",
   "execution_count": 18,
   "id": "2abbab37",
   "metadata": {},
   "outputs": [
    {
     "name": "stdout",
     "output_type": "stream",
     "text": [
      "['Region', 'Zero minutes', 'From 1 to 9 minutes', 'From 1 to 14 minutes', '1 minute or over', 'From 10 to 14 minutes', 'From 15 to 19 minutes', 'From 15 to 29 minutes', 'From 20 to 29 minutes', 'From 30 to 44 minutes', 'From 30 to 59 minutes', '30 minutes or over', 'From 45 to 59 minutes', '60 minutes or over', 'No response', 'sheet_name', 'education_level', 'urbanisation_degree', 'age_class', 'sex']\n"
     ]
    }
   ],
   "source": [
    "print(combined_df.columns.tolist())"
   ]
  },
  {
   "cell_type": "code",
   "execution_count": 19,
   "id": "bae605a3",
   "metadata": {},
   "outputs": [],
   "source": [
    "combined_df.to_excel(\"cleaned_commuting_data_male.xlsx\", index=False)"
   ]
  },
  {
   "cell_type": "code",
   "execution_count": null,
   "id": "c5571165",
   "metadata": {},
   "outputs": [],
   "source": [
    "# now let's join male and female data"
   ]
  },
  {
   "cell_type": "code",
   "execution_count": 24,
   "id": "4be0e36f",
   "metadata": {},
   "outputs": [],
   "source": [
    "female_df = pd.read_excel(\"cleaned_commuting_data_female.xlsx\")\n",
    "male_df = pd.read_excel(\"cleaned_commuting_data_male.xlsx\")"
   ]
  },
  {
   "cell_type": "code",
   "execution_count": 25,
   "id": "7ed10f01",
   "metadata": {},
   "outputs": [
    {
     "name": "stdout",
     "output_type": "stream",
     "text": [
      "Female: (4500, 20) ['Female']\n",
      "Male: (4500, 20) ['Male']\n"
     ]
    }
   ],
   "source": [
    "print(\"Female:\", female_df.shape, female_df[\"sex\"].unique())\n",
    "print(\"Male:\", male_df.shape, male_df[\"sex\"].unique())"
   ]
  },
  {
   "cell_type": "code",
   "execution_count": 26,
   "id": "1f9811f0",
   "metadata": {},
   "outputs": [],
   "source": [
    "combined_sex_df = pd.concat([female_df, male_df], ignore_index=True)\n"
   ]
  },
  {
   "cell_type": "code",
   "execution_count": 27,
   "id": "7fc05980",
   "metadata": {},
   "outputs": [
    {
     "name": "stdout",
     "output_type": "stream",
     "text": [
      "sex\n",
      "Female    4500\n",
      "Male      4500\n",
      "Name: count, dtype: int64\n"
     ]
    }
   ],
   "source": [
    "print(combined_sex_df[\"sex\"].value_counts())\n"
   ]
  },
  {
   "cell_type": "code",
   "execution_count": 28,
   "id": "9382aece",
   "metadata": {},
   "outputs": [],
   "source": [
    "combined_sex_df.to_excel(\"cleaned_commuting_data_all.xlsx\", index=False)"
   ]
  }
 ],
 "metadata": {
  "kernelspec": {
   "display_name": "base",
   "language": "python",
   "name": "python3"
  },
  "language_info": {
   "codemirror_mode": {
    "name": "ipython",
    "version": 3
   },
   "file_extension": ".py",
   "mimetype": "text/x-python",
   "name": "python",
   "nbconvert_exporter": "python",
   "pygments_lexer": "ipython3",
   "version": "3.13.2"
  }
 },
 "nbformat": 4,
 "nbformat_minor": 5
}
