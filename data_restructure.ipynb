{
 "cells": [
  {
   "cell_type": "markdown",
   "id": "86a0142e",
   "metadata": {},
   "source": [
    "Since we have giant exel data set with different info in different sheet, I'm going to reshape it so that we have one hunge long data set"
   ]
  },
  {
   "cell_type": "code",
   "execution_count": 1,
   "id": "0dace70b",
   "metadata": {},
   "outputs": [],
   "source": [
    "import pandas as pd"
   ]
  },
  {
   "cell_type": "code",
   "execution_count": 10,
   "id": "5dbf4915",
   "metadata": {},
   "outputs": [],
   "source": [
    "\n",
    "file_path = 'data/Total_Commuting_data.xlsx'\n",
    "all_sheets = pd.ExcelFile(file_path)  \n"
   ]
  },
  {
   "cell_type": "code",
   "execution_count": 11,
   "id": "4c94534a",
   "metadata": {},
   "outputs": [],
   "source": [
    "flag_sheets = {f\"Flags {i}\" for i in range(1, 126)}"
   ]
  },
  {
   "cell_type": "code",
   "execution_count": 13,
   "id": "fb6886bb",
   "metadata": {},
   "outputs": [],
   "source": [
    "#Alright... looks like first we need to get rid of some rows...\n",
    "# or first get rid of two sheets we don't need\n",
    "exclude = {\"summary\", \"structure\"}\n",
    "exclude.update(flag_sheets)"
   ]
  },
  {
   "cell_type": "code",
   "execution_count": 14,
   "id": "782a6a3e",
   "metadata": {},
   "outputs": [],
   "source": [
    "# Here I got removed first 12 rows and set a new header. \n",
    "cleaned_sheets = {}\n",
    "\n",
    "\n",
    "for sheet_name in all_sheets.sheet_names:\n",
    "    if sheet_name.strip().lower() in {s.lower() for s in exclude}:\n",
    "        continue\n",
    "\n",
    "   \n",
    "    df = pd.read_excel(all_sheets, sheet_name=sheet_name)\n",
    "    df = df.iloc[11:].reset_index(drop=True)     \n",
    "    df.columns = df.iloc[0]                      \n",
    "    df = df[1:].reset_index(drop=True)           \n",
    "\n",
    "    cleaned_sheets[sheet_name] = df"
   ]
  },
  {
   "cell_type": "code",
   "execution_count": 15,
   "id": "b9de11c3",
   "metadata": {},
   "outputs": [
    {
     "name": "stdout",
     "output_type": "stream",
     "text": [
      "Sheet: Sheet 1\n",
      "0                          DURATION (Labels) Zero minutes From 1 to 9 minutes  \\\n",
      "0                               GEO (Labels)          NaN                 NaN   \n",
      "1  European Union - 27 countries (from 2020)       1557.9              6886.3   \n",
      "2  European Union - 28 countries (2013-2020)       1949.7              8129.9   \n",
      "3      Euro area - 19 countries  (2015-2022)       1110.2              5702.9   \n",
      "4                                    Belgium         78.9               143.8   \n",
      "\n",
      "0 From 1 to 14 minutes 1 minute or over From 10 to 14 minutes  \\\n",
      "0                  NaN              NaN                   NaN   \n",
      "1              14664.7          53090.2                7778.4   \n",
      "2              17410.8          63729.1                9280.9   \n",
      "3              11771.6          39982.3                6068.8   \n",
      "4                330.2           1432.6                 186.4   \n",
      "\n",
      "0 From 15 to 19 minutes From 15 to 29 minutes From 20 to 29 minutes  \\\n",
      "0                   NaN                   NaN                   NaN   \n",
      "1                7862.6               18562.9               10700.2   \n",
      "2                9124.7               21809.4               12684.7   \n",
      "3                5811.3                 13754                7942.8   \n",
      "4                 213.9                 510.6                 296.7   \n",
      "\n",
      "0 From 30 to 44 minutes From 30 to 59 minutes 30 minutes or over  \\\n",
      "0                   NaN                   NaN                NaN   \n",
      "1               11966.1               15358.3            19862.6   \n",
      "2               14321.9               18591.9            24508.9   \n",
      "3                8457.4               10989.8            14456.6   \n",
      "4                 313.5                 435.2              591.7   \n",
      "\n",
      "0 From 45 to 59 minutes 60 minutes or over No response  \n",
      "0                   NaN                NaN         NaN  \n",
      "1                3392.2             4504.3      2527.7  \n",
      "2                4270.1               5917      2781.1  \n",
      "3                2532.4             3466.8      1789.4  \n",
      "4                 121.6              156.5         6.2  \n"
     ]
    }
   ],
   "source": [
    "# test\n",
    "sheet = list(cleaned_sheets.keys())[0]\n",
    "print(f\"Sheet: {sheet}\")\n",
    "print(cleaned_sheets[sheet].head())\n"
   ]
  },
  {
   "cell_type": "code",
   "execution_count": 44,
   "id": "b4921d76",
   "metadata": {},
   "outputs": [],
   "source": [
    "education_levels = {\n",
    "    \"All ISCED 2011 levels\": [\n",
    "        *range(1, 6), *range(26, 31), *range(51, 56), *range(76, 81), *range(101, 106)\n",
    "    ],\n",
    "    \"ISCED 0–2\": [\n",
    "        *range(6, 11), *range(31, 36), *range(56, 61), *range(81, 86), *range(106, 111)\n",
    "    ],\n",
    "    \"ISCED 3–4\": [\n",
    "        *range(11, 16), *range(36, 41), *range(61, 66), *range(86, 91), *range(111, 116)\n",
    "    ],\n",
    "    \"ISCED 5–8\": [\n",
    "        *range(16, 21), *range(41, 46), *range(66, 71), *range(91, 96), *range(116, 121)\n",
    "    ],\n",
    "    \"No response\": [\n",
    "        *range(21, 26), *range(46, 51), *range(71, 76), *range(96, 101), *range(121, 126)\n",
    "    ],\n",
    "}\n",
    "\n",
    "degree_of_urbanisation = {\n",
    "    \"Total\": list(range(1, 26)),\n",
    "    \"Cities\": list(range(26, 51)),\n",
    "    \"Towns and suburbs\": list(range(51, 76)),\n",
    "    \"Rural areas\": list(range(76, 101)),\n",
    "    \"No response\": list(range(101, 126)),\n",
    "}\n",
    "\n",
    "age_class = {\n",
    "    \"From 15 to 34 years\": [1, 6, 11, 16, 21, 26, 31, 36, 41, 46, 51, 56, 61, 66, 71, 76, 81, 86, 91, 96, 101, 106, 111, 116, 121],\n",
    "    \"From 15 to 74 years\": [2, 7, 12, 17, 22, 27, 32, 37, 42, 47, 52, 57, 62, 67, 72, 77, 82, 87, 92, 97, 102, 107, 112, 117, 122],\n",
    "    \"From 20 to 64 years\": [3, 8, 13, 18, 23, 28, 33, 38, 43, 48, 53, 58, 63, 68, 73, 78, 83, 88, 93, 98, 103, 108, 113, 118, 123],\n",
    "    \"From 35 to 49 years\": [4, 9, 14, 19, 24, 29, 34, 39, 44, 49, 54, 59, 64, 69, 74, 79, 84, 89, 94, 99, 104, 109, 114, 119, 124],\n",
    "    \"From 50 to 74 years\": [5, 10, 15, 20, 25, 30, 35, 40, 45, 50, 55, 60, 65, 70, 75, 80, 85, 90, 95, 100, 105, 110, 115, 120, 125],\n",
    "}\n"
   ]
  },
  {
   "cell_type": "code",
   "execution_count": 45,
   "id": "8703ffb8",
   "metadata": {},
   "outputs": [],
   "source": [
    "def lookup_category(index, mapping):\n",
    "    for label, index_list in mapping.items():\n",
    "        if index in index_list:\n",
    "            return label\n",
    "    return None"
   ]
  },
  {
   "cell_type": "code",
   "execution_count": null,
   "id": "2355ebb6",
   "metadata": {},
   "outputs": [],
   "source": [
    "# then I'll write a for loop to add these columns to each sheet"
   ]
  },
  {
   "cell_type": "code",
   "execution_count": null,
   "id": "97cefc19",
   "metadata": {},
   "outputs": [],
   "source": [
    "# then I'll combine them all into one or maybe not... or leave it seperate so everyone can combine them the way they want and save as a new exel file, or even better csv"
   ]
  },
  {
   "cell_type": "code",
   "execution_count": 46,
   "id": "42d29dfa",
   "metadata": {},
   "outputs": [],
   "source": [
    "import re\n",
    "\n",
    "def extract_sheet_number(name):\n",
    "    match = re.search(r'\\d+', name)\n",
    "    return int(match.group()) if match else None"
   ]
  },
  {
   "cell_type": "code",
   "execution_count": 53,
   "id": "7b297a6a",
   "metadata": {},
   "outputs": [],
   "source": [
    "\n",
    "final_sheets = []\n",
    "\n",
    "for sheet_name in sorted_sheet_names:\n",
    "    df = cleaned_sheets[sheet_name].copy()\n",
    "    \n",
    "    idx = extract_sheet_number(sheet_name)\n",
    "\n",
    "    df[\"sheet_name\"] = sheet_name\n",
    "    \n",
    "    df[\"education_level\"] = lookup_category(idx, education_levels)\n",
    "    df[\"urbanisation_degree\"] = lookup_category(idx, degree_of_urbanisation)\n",
    "    df[\"age_class\"] = lookup_category(idx, age_class)\n",
    "    \n",
    "    final_sheets.append(df)\n"
   ]
  },
  {
   "cell_type": "code",
   "execution_count": 57,
   "id": "d09b47d1",
   "metadata": {},
   "outputs": [
    {
     "name": "stdout",
     "output_type": "stream",
     "text": [
      "0                          DURATION (Labels) Zero minutes From 1 to 9 minutes  \\\n",
      "0                               GEO (Labels)          NaN                 NaN   \n",
      "1  European Union - 27 countries (from 2020)            :                   :   \n",
      "2  European Union - 28 countries (2013-2020)            :                   :   \n",
      "3      Euro area - 19 countries  (2015-2022)            :                   :   \n",
      "4                                    Belgium            :                   :   \n",
      "\n",
      "0 From 1 to 14 minutes 1 minute or over From 10 to 14 minutes  \\\n",
      "0                  NaN              NaN                   NaN   \n",
      "1                    :                :                     :   \n",
      "2                    :                :                     :   \n",
      "3                    :                :                     :   \n",
      "4                    :                :                     :   \n",
      "\n",
      "0 From 15 to 19 minutes From 15 to 29 minutes From 20 to 29 minutes  \\\n",
      "0                   NaN                   NaN                   NaN   \n",
      "1                     :                     :                     :   \n",
      "2                     :                     :                     :   \n",
      "3                     :                     :                     :   \n",
      "4                     :                     :                     :   \n",
      "\n",
      "0 From 30 to 44 minutes From 30 to 59 minutes 30 minutes or over  \\\n",
      "0                   NaN                   NaN                NaN   \n",
      "1                     :                     :                  :   \n",
      "2                     :                     :                  :   \n",
      "3                     :                     :                  :   \n",
      "4                     :                     :                  :   \n",
      "\n",
      "0 From 45 to 59 minutes 60 minutes or over No response sheet_name  \\\n",
      "0                   NaN                NaN         NaN  Sheet 116   \n",
      "1                     :                  :           :  Sheet 116   \n",
      "2                     :                  :           :  Sheet 116   \n",
      "3                     :                  :           :  Sheet 116   \n",
      "4                     :                  :           :  Sheet 116   \n",
      "\n",
      "0 education_level urbanisation_degree            age_class  \n",
      "0       ISCED 5–8         No response  From 15 to 34 years  \n",
      "1       ISCED 5–8         No response  From 15 to 34 years  \n",
      "2       ISCED 5–8         No response  From 15 to 34 years  \n",
      "3       ISCED 5–8         No response  From 15 to 34 years  \n",
      "4       ISCED 5–8         No response  From 15 to 34 years  \n"
     ]
    }
   ],
   "source": [
    "print(final_sheets[115].head())"
   ]
  },
  {
   "cell_type": "code",
   "execution_count": 43,
   "id": "6aff3e79",
   "metadata": {},
   "outputs": [
    {
     "name": "stdout",
     "output_type": "stream",
     "text": [
      "Sheet: Sheet 125, Index: 125, Education: None, Urbanisation: None\n"
     ]
    }
   ],
   "source": [
    "print(f\"Sheet: {sheet_name}, Index: {idx}, Education: {df['education_level'].iloc[0]}, Urbanisation: {df['urbanisation_degree'].iloc[0]}\")\n"
   ]
  },
  {
   "cell_type": "code",
   "execution_count": 58,
   "id": "1f102ec1",
   "metadata": {},
   "outputs": [],
   "source": [
    "# Combine all sheets into one DataFrame\n",
    "combined_df = pd.concat(final_sheets, ignore_index=True)\n"
   ]
  },
  {
   "cell_type": "code",
   "execution_count": 59,
   "id": "36ef3bf4",
   "metadata": {},
   "outputs": [],
   "source": [
    "combined_df.to_excel(\"combined_commuting_data.xlsx\", index=False)"
   ]
  },
  {
   "cell_type": "code",
   "execution_count": 61,
   "id": "64f0c5f0",
   "metadata": {},
   "outputs": [],
   "source": [
    "combined_df = combined_df[\n",
    "    ~combined_df.iloc[:, 0].isin([\"GEO (Labels)\", \"Special value\", \":\"])\n",
    "].reset_index(drop=True)"
   ]
  },
  {
   "cell_type": "code",
   "execution_count": 62,
   "id": "6e2e3eb9",
   "metadata": {},
   "outputs": [],
   "source": [
    "combined_df = combined_df.rename(columns={\"DURATION (Labels)\": \"Region\"})"
   ]
  },
  {
   "cell_type": "code",
   "execution_count": 63,
   "id": "65980e8a",
   "metadata": {},
   "outputs": [
    {
     "name": "stdout",
     "output_type": "stream",
     "text": [
      "['Region', 'Zero minutes', 'From 1 to 9 minutes', 'From 1 to 14 minutes', '1 minute or over', 'From 10 to 14 minutes', 'From 15 to 19 minutes', 'From 15 to 29 minutes', 'From 20 to 29 minutes', 'From 30 to 44 minutes', 'From 30 to 59 minutes', '30 minutes or over', 'From 45 to 59 minutes', '60 minutes or over', 'No response', 'sheet_name', 'education_level', 'urbanisation_degree', 'age_class']\n"
     ]
    }
   ],
   "source": [
    "print(combined_df.columns.tolist())"
   ]
  },
  {
   "cell_type": "code",
   "execution_count": 64,
   "id": "0dbf9dc5",
   "metadata": {},
   "outputs": [],
   "source": [
    "combined_df.to_excel(\"cleaned_commuting_data.xlsx\", index=False)"
   ]
  },
  {
   "cell_type": "code",
   "execution_count": 65,
   "id": "87bb3494",
   "metadata": {},
   "outputs": [],
   "source": [
    "combined_df.to_csv(\"cleaned_commuting_data.csv\", index=False)"
   ]
  }
 ],
 "metadata": {
  "kernelspec": {
   "display_name": "base",
   "language": "python",
   "name": "python3"
  },
  "language_info": {
   "codemirror_mode": {
    "name": "ipython",
    "version": 3
   },
   "file_extension": ".py",
   "mimetype": "text/x-python",
   "name": "python",
   "nbconvert_exporter": "python",
   "pygments_lexer": "ipython3",
   "version": "3.13.2"
  }
 },
 "nbformat": 4,
 "nbformat_minor": 5
}
